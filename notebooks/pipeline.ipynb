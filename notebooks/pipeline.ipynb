{
 "cells": [
  {
   "cell_type": "code",
   "execution_count": 6,
   "metadata": {},
   "outputs": [],
   "source": [
    "from typing import List, Tuple, Dict\n",
    "\n",
    "import numpy as np"
   ]
  },
  {
   "cell_type": "code",
   "execution_count": 8,
   "metadata": {},
   "outputs": [],
   "source": [
    "# temporary object class\n",
    "class DeepSortObject():\n",
    "    id: int\n",
    "    label: str\n",
    "    confidence: float\n",
    "    bbox: List[float]\n",
    "    mask: np.ndarray\n",
    "\n",
    "class ObjectTracker():\n",
    "    _trajectory: Dict[int, np.ndarray] # obj.id -> np.ndarray of shape (3) # could be a np.ndarray of shape (t,3)\n",
    "    def __init__(self):\n",
    "        self.tracked_objects: Dict[int, Dict] = dict()  # obj.id -> trajectory\n",
    "        self.tracked_kinematics: Dict[int, np.ndarray] = dict() # obj.id -> deltaX # QUESTION: Maybe we want to keep track of the last K deltas?\n",
    "\n",
    "    def register_position(self, obj_key_:int, time_:int, position_:np.ndarray):\n",
    "        self.tracked_objects[obj_key_][time_] = position_\n",
    "\n",
    "        if time_ > 0:\n",
    "            self.register_kinematics(obj_key_, time_, position_ - self.tracked_objects[obj_key_][time_ - 1])\n",
    "\n",
    "    def register_kinematics(self, obj_key_:int, time_:int, dx_:np.ndarray):\n",
    "        self.tracked_kinematics[obj_key_][time_] = dx_\n",
    "    \n",
    "    def predict_position(self, obj_key_:int, before_time_:int) -> np.ndarray:\n",
    "        \"\"\"\n",
    "        Predicts the position of the object at before_time_ + 1\n",
    "        args:\n",
    "            obj_key_: int   -- object id\n",
    "            time_: int      -- time step\n",
    "        \"\"\"\n",
    "        assert obj_key_ in self.tracked_objects.keys(), f\"Object {obj_key_} not found in tracker\"\n",
    "        assert before_time_ in self.tracked_objects[obj_key_].keys(), f\"Position of object {obj_key_} not found at time {before_time_}\"\n",
    "        assert before_time_ in self.tracked_kinematics[obj_key_].keys(), f\"Kinematics of object {obj_key_} not found at time {before_time_}\"\n",
    "\n",
    "        return self.tracked_objects.get(obj_key_).get(before_time_) + self.tracked_kinematics.get(obj_key_).get(before_time_)\n",
    "\n",
    "def identify_objects(frame_:np.ndarray) -> Dict[int, DeepSortObject]:\n",
    "    ...\n",
    "\n",
    "def make_pointcloud(obj_mask_:np.ndarray, frame_:np.ndarray) -> np.ndarray:\n",
    "    ..."
   ]
  },
  {
   "cell_type": "code",
   "execution_count": null,
   "metadata": {},
   "outputs": [],
   "source": [
    "# global variables\n",
    "FRAMES:List[(np.ndarray,np.ndarray)] = [] #TODO: implement get_frames()\n",
    "\n",
    "DS_PREDICTION = True # True if prediction by DeepSort\n",
    "KINEMATIC_PREDICTION = not DS_PREDICTION # True if prediction by kinematics\n",
    "\n",
    "# dynamic variables\n",
    "object_tracker = ObjectTracker()\n",
    "\n",
    "lastFrameIds = {} # List of objects detected in last frame\n",
    "\n",
    "for time_i, left_frame, right_frame in enumerate(FRAMES):\n",
    "    # stereo feed and object identification\n",
    "    objs_t = identify_objects(left_frame)\n",
    "\n",
    "    for _past_obj in lastFrameIds:\n",
    "        # object position estimation\n",
    "        if _past_obj.id in objs_t.keys(): # object in last frame is in current frame\n",
    "            obj_mask = objs_t.get(_past_obj.id).mask\n",
    "            pc_obj = make_pointcloud(obj_mask, right_frame) # TODOWork from Alex\n",
    "        else: # object in last frame is not in current frame (OCCLUSION)\n",
    "            if KINEMATIC_PREDICTION:\n",
    "                # kinematics estimation\n",
    "                _pos_obj = object_tracker.predict_position(_past_obj.id, time_i)\n",
    "            else:\n",
    "                # deepsort estimation\n",
    "                # get predicted bbox form deepsort\n",
    "                raise NotImplementedError(\"DeepSort prediction not implemented\")\n",
    "                ...\n",
    "            # object tracking\n",
    "            object_tracker.register_position(_past_obj.id, time_i, _pos_obj)\n",
    "\n",
    "    lastFrameIds = set(objs_t.keys())   \n",
    "\n"
   ]
  },
  {
   "cell_type": "code",
   "execution_count": 4,
   "metadata": {},
   "outputs": [
    {
     "name": "stdout",
     "output_type": "stream",
     "text": [
      "{1, 2, 3}\n"
     ]
    }
   ],
   "source": [
    "s1 = {1,2,3}\n",
    "s2 = {2,3,4}\n",
    "\n",
    "s3 = s1.difference(s2).union(s1.intersection(s2))\n",
    "\n",
    "print(s3)"
   ]
  }
 ],
 "metadata": {
  "kernelspec": {
   "display_name": "Python 3",
   "language": "python",
   "name": "python3"
  },
  "language_info": {
   "codemirror_mode": {
    "name": "ipython",
    "version": 3
   },
   "file_extension": ".py",
   "mimetype": "text/x-python",
   "name": "python",
   "nbconvert_exporter": "python",
   "pygments_lexer": "ipython3",
   "version": "3.8.10"
  },
  "orig_nbformat": 4
 },
 "nbformat": 4,
 "nbformat_minor": 2
}
