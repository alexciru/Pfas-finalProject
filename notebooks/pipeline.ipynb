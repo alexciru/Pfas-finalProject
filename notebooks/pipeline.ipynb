{
 "cells": [
  {
   "cell_type": "code",
   "execution_count": 6,
   "metadata": {},
   "outputs": [],
   "source": [
    "from typing import List, Tuple, Dict\n",
    "\n",
    "import numpy as np"
   ]
  },
  {
   "cell_type": "code",
   "execution_count": 8,
   "metadata": {},
   "outputs": [],
   "source": [
    "# temporary object class\n",
    "class DeepSortObject():\n",
    "    id: int\n",
    "    label: str\n",
    "    confidence: float\n",
    "    bbox: List[float]\n",
    "    mask: np.ndarray\n",
    "\n",
    "def identify_objects(frame_:np.ndarray) -> Dict[int, DeepSortObject]:\n",
    "    ..."
   ]
  },
  {
   "cell_type": "code",
   "execution_count": null,
   "metadata": {},
   "outputs": [],
   "source": [
    "# global variables\n",
    "FRAMES:List[(np.ndarray,np.ndarray)] = [] #TODO: implement get_frames()\n",
    "OBJS_TRAJECTORY = dict() # obj.id -> trajectory\n",
    "OBJS_KINEMATICS = dict() # obj.id -> deltaX # QUESTION: Maybe e want to keep track of the last K deltas?\n",
    "\n",
    "DS_PREDICTION = True # True if prediction by DeepSort\n",
    "\n",
    "# dynamic variables\n",
    "lastFrameIds = [] # List of objects detected in last frame\n",
    "\n",
    "# template variables\n",
    "_trajectory = dict() # t -> X := (x,y,z) position of object\n",
    "\n",
    "for (left_frame, right_frame) in FRAMES:\n",
    "    # stereo feed and object identification\n",
    "    objs_t = identify_objects(left_frame)\n",
    "\n",
    "    # object position estimation\n",
    "    for _past_obj in lastFrameIds:\n",
    "        if _past_obj.id in objs_t.keys(): # object in last frame is in current frame\n",
    "            obj_mask = objs_t.get(_past_obj.id).mask \n",
    "        else: # object in last frame is not in current frame (OCCLUSION)\n",
    "            if not DS_PREDICTION:\n",
    "                # kinematics estimation\n",
    "                ...\n"
   ]
  }
 ],
 "metadata": {
  "kernelspec": {
   "display_name": "Python 3",
   "language": "python",
   "name": "python3"
  },
  "language_info": {
   "codemirror_mode": {
    "name": "ipython",
    "version": 3
   },
   "file_extension": ".py",
   "mimetype": "text/x-python",
   "name": "python",
   "nbconvert_exporter": "python",
   "pygments_lexer": "ipython3",
   "version": "3.8.10"
  },
  "orig_nbformat": 4
 },
 "nbformat": 4,
 "nbformat_minor": 2
}
