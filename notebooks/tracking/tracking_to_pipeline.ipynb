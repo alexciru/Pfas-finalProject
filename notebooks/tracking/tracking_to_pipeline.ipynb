{
 "cells": [
  {
   "cell_type": "code",
   "execution_count": 2,
   "metadata": {},
   "outputs": [],
   "source": [
    "from ultralytics import YOLO\n",
    "import math\n",
    "\n",
    "from deep_sort.application_util import preprocessing\n",
    "from deep_sort.deep_sort import nn_matching\n",
    "from deep_sort.deep_sort.detection import Detection\n",
    "from deep_sort.deep_sort.tracker import Tracker\n",
    "from deep_sort.tools import generate_detections as gdet\n",
    "\n",
    "import cv2\n",
    "import glob\n",
    "from pathlib import Path\n",
    "\n",
    "# own\n",
    "from utils.utils import (get_frames, SEQ_01, SEQ_02, SEQ_03)\n",
    "from utils.deepsort_utils import LABELS_DICT, UNKNOWN_DEFAULT"
   ]
  },
  {
   "cell_type": "code",
   "execution_count": null,
   "metadata": {},
   "outputs": [],
   "source": [
    "deepsort_model_ = 'path/to/deepsort_model' # TODO missing\n",
    "yolo_model_ = 'path/to/yolo_model' # TODO missing\n",
    "\n",
    "encoder = gdet.create_box_encoder(deepsort_model_, batch_size=1)\n",
    "_metric = nn_matching.NearestNeighborDistanceMetric(\"cosine\", 0.4, None)\n",
    "tracker = Tracker(_metric, n_init=0)\n",
    "detector = YOLO(yolo_model_)"
   ]
  },
  {
   "cell_type": "code",
   "execution_count": null,
   "metadata": {},
   "outputs": [],
   "source": [
    "frames = [get_frames(SEQ_01, frame_num_=i) for i in range(10)] #TODO: implement all_frames functionality\n",
    "\n",
    "for _frame in frames:\n",
    "    ..."
   ]
  }
 ],
 "metadata": {
  "kernelspec": {
   "display_name": "Python 3",
   "language": "python",
   "name": "python3"
  },
  "language_info": {
   "codemirror_mode": {
    "name": "ipython",
    "version": 3
   },
   "file_extension": ".py",
   "mimetype": "text/x-python",
   "name": "python",
   "nbconvert_exporter": "python",
   "pygments_lexer": "ipython3",
   "version": "3.8.10"
  },
  "orig_nbformat": 4
 },
 "nbformat": 4,
 "nbformat_minor": 2
}
