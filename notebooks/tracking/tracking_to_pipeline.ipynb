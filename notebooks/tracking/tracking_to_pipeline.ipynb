{
 "cells": [
  {
   "cell_type": "code",
   "execution_count": 4,
   "metadata": {},
   "outputs": [],
   "source": [
    "import numpy as np\n",
    "from typing import List, Tuple\n",
    "from ultralytics import YOLO\n",
    "\n",
    "from deep_sort.application_util import preprocessing\n",
    "from deep_sort.deep_sort import nn_matching\n",
    "from deep_sort.deep_sort.detection import Detection\n",
    "from deep_sort.deep_sort.tracker import Tracker\n",
    "from deep_sort.tools import generate_detections as gdet\n",
    "\n",
    "\n",
    "# own\n",
    "from utils.utils import (get_frames, SEQ_01, SEQ_02, SEQ_03)\n",
    "from utils.deepsort_utils import LABELS_DICT, UNKNOWN_DEFAULT"
   ]
  },
  {
   "cell_type": "code",
   "execution_count": 5,
   "metadata": {},
   "outputs": [],
   "source": [
    "deepsort_model_ = './networks/mars-small128.pb' # TODO missing\n",
    "yolo_model_ = '../../models/yolov8n.pt' # TODO missing\n",
    "\n",
    "encoder = gdet.create_box_encoder(deepsort_model_, batch_size=1)\n",
    "_metric = nn_matching.NearestNeighborDistanceMetric(\"cosine\", 0.4, None)\n",
    "tracker = Tracker(_metric, n_init=0)\n",
    "detector = YOLO(yolo_model_)"
   ]
  },
  {
   "cell_type": "code",
   "execution_count": 18,
   "metadata": {},
   "outputs": [],
   "source": [
    "class DeepSortObject():\n",
    "    id: int\n",
    "    label: str\n",
    "    confidence: float\n",
    "    xyxy: List[float]\n",
    "    mask: np.ndarray\n",
    "\n",
    "    @property\n",
    "    def xywh(self):\n",
    "        raise NotImplementedError"
   ]
  },
  {
   "cell_type": "code",
   "execution_count": 8,
   "metadata": {},
   "outputs": [
    {
     "name": "stderr",
     "output_type": "stream",
     "text": [
      "\n",
      "0: 256x640 3 persons, 2 bicycles, 1: 256x640 3 persons, 2 bicycles, 32.7ms\n",
      "Speed: 0.2ms preprocess, 16.3ms inference, 0.5ms postprocess per image at shape (1, 3, 640, 640)\n",
      "\n",
      "0: 256x640 3 persons, 3 bicycles, 1: 256x640 2 persons, 2 bicycles, 36.3ms\n",
      "Speed: 0.2ms preprocess, 18.1ms inference, 0.5ms postprocess per image at shape (1, 3, 640, 640)\n"
     ]
    }
   ],
   "source": [
    "frames = [(_l, _r) for _l, _r in [get_frames(frame_num_=i, seq_dir_=SEQ_01) for i in range(2)]]\n",
    "\n",
    "detections = []\n",
    "for _i_frame, _frame in enumerate(frames):\n",
    "    detector_pred = detector(_frame, classes=[0, 1, 2])\n",
    "    bboxes = []\n",
    "    yolobbox2objdata = {}\n",
    "    boxes = detector_pred[0].boxes\n",
    "    if not detector_pred:\n",
    "        print(f\"no detections in frame {_i_frame}\")\n",
    "        continue\n",
    "\n",
    "    # for box in boxes:\n",
    "    #     conf = float(box.conf[0])\n",
    "    #     cls_val = int(box.cls[0])\n",
    "    #     cls = LABELS_DICT.get(cls_val)\n",
    "    #     # box.xyxy is tlbr (top-left, bottom-right)\n",
    "    #     # convert from tensor to list\n",
    "    #     box = box.xyxy.tolist()[0]\n",
    "    #     yolobbox2objdata[tuple(box)] = (cls, conf)\n",
    "    #     top_left_x, top_left_y = box[0], box[1]\n",
    "    #     width = box[2] - box[0]\n",
    "    #     height = box[3] - box[1]\n",
    "    #     bbox = [top_left_x, top_left_y, width, height]\n",
    "    #     bboxes.append(bbox)\n",
    "    "
   ]
  },
  {
   "cell_type": "code",
   "execution_count": 16,
   "metadata": {},
   "outputs": [
    {
     "name": "stdout",
     "output_type": "stream",
     "text": [
      "confidences: 0.8920082449913025\n",
      "classes: Pedestrian (0.0)\n"
     ]
    }
   ],
   "source": [
    "_dets_i = detections[0]\n",
    "\n",
    "_det_0 = _dets_i[0]\n",
    "\n",
    "print(f\"confidences: {_det_0.conf[0]}\")\n",
    "print(f\"classes: {LABELS_DICT.get(int(_det_0.cls[0]))} ({_det_0.cls[0]})\")\n",
    "\n"
   ]
  },
  {
   "cell_type": "code",
   "execution_count": 10,
   "metadata": {},
   "outputs": [
    {
     "name": "stdout",
     "output_type": "stream",
     "text": [
      "5\n"
     ]
    }
   ],
   "source": [
    "_dets_i = detections[0]\n",
    "\n",
    "objects_i = []\n",
    "for _det in _dets_i:\n",
    "    _dso = DeepSortObject()\n",
    "    _dso.id = int(_det.cls[0])\n",
    "    _dso.label = LABELS_DICT.get(int(_dso.id), UNKNOWN_DEFAULT)\n",
    "    _dso.confidence = float(_det.conf[0])\n",
    "    _dso.xyxy = _det.xyxy.tolist()[0]\n",
    "    _dso.mask = None\n",
    "    \n",
    "    objects_i.append(_dso)"
   ]
  },
  {
   "cell_type": "code",
   "execution_count": null,
   "metadata": {},
   "outputs": [],
   "source": []
  }
 ],
 "metadata": {
  "kernelspec": {
   "display_name": "Python 3",
   "language": "python",
   "name": "python3"
  },
  "language_info": {
   "codemirror_mode": {
    "name": "ipython",
    "version": 3
   },
   "file_extension": ".py",
   "mimetype": "text/x-python",
   "name": "python",
   "nbconvert_exporter": "python",
   "pygments_lexer": "ipython3",
   "version": "3.8.10"
  },
  "orig_nbformat": 4
 },
 "nbformat": 4,
 "nbformat_minor": 2
}
