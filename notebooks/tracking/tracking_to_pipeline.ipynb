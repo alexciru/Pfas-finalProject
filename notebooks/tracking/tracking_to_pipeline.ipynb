{
 "cells": [
  {
   "cell_type": "code",
   "execution_count": 13,
   "metadata": {},
   "outputs": [],
   "source": [
    "import numpy as np\n",
    "from typing import List, Tuple\n",
    "from ultralytics import YOLO\n",
    "from dataclasses import dataclass\n",
    "\n",
    "from deep_sort.application_util import preprocessing\n",
    "from deep_sort.deep_sort import nn_matching\n",
    "from deep_sort.deep_sort.detection import Detection\n",
    "from deep_sort.deep_sort.tracker import Tracker\n",
    "from deep_sort.tools import generate_detections as gdet\n",
    "\n",
    "\n",
    "# own\n",
    "from utils.utils import (get_frames, SEQ_01, SEQ_02, SEQ_03)\n",
    "from utils.deepsort_utils import LABELS_DICT, UNKNOWN_DEFAULT"
   ]
  },
  {
   "cell_type": "code",
   "execution_count": 2,
   "metadata": {},
   "outputs": [
    {
     "name": "stderr",
     "output_type": "stream",
     "text": [
      "2023-05-05 17:55:27.735165: E tensorflow/stream_executor/cuda/cuda_driver.cc:271] failed call to cuInit: CUDA_ERROR_NO_DEVICE: no CUDA-capable device is detected\n"
     ]
    }
   ],
   "source": [
    "deepsort_model_ = './networks/mars-small128.pb' # TODO missing\n",
    "yolo_model_ = '../../models/yolov8n.pt' # TODO missing\n",
    "\n",
    "encoder = gdet.create_box_encoder(deepsort_model_, batch_size=1)\n",
    "_metric = nn_matching.NearestNeighborDistanceMetric(\"cosine\", 0.4, None)\n",
    "tracker = Tracker(_metric, n_init=0)\n",
    "detector = YOLO(yolo_model_)"
   ]
  },
  {
   "cell_type": "code",
   "execution_count": 17,
   "metadata": {},
   "outputs": [],
   "source": [
    "@dataclass\n",
    "class DeepSortObject():\n",
    "    id: int\n",
    "    label: str\n",
    "    confidence: float\n",
    "    xyxy: List[float]\n",
    "    mask: np.ndarray\n",
    "\n",
    "    @property\n",
    "    def xywh(self):\n",
    "        raise NotImplementedError"
   ]
  },
  {
   "cell_type": "code",
   "execution_count": 20,
   "metadata": {},
   "outputs": [
    {
     "name": "stderr",
     "output_type": "stream",
     "text": [
      "\n",
      "0: 256x640 3 persons, 2 bicycles, 1: 256x640 3 persons, 2 bicycles, 59.8ms\n",
      "Speed: 0.4ms preprocess, 29.9ms inference, 0.9ms postprocess per image at shape (1, 3, 640, 640)\n",
      "\n",
      "0: 256x640 3 persons, 3 bicycles, 1: 256x640 2 persons, 2 bicycles, 58.4ms\n",
      "Speed: 0.2ms preprocess, 29.2ms inference, 0.9ms postprocess per image at shape (1, 3, 640, 640)\n"
     ]
    }
   ],
   "source": [
    "frames = [(_l, _r) for _l, _r in [get_frames(frame_num_=i, seq_dir_=SEQ_01) for i in range(2)]]\n",
    "\n",
    "detection_results = []\n",
    "for _i_frame, _frame in enumerate(frames):\n",
    "    _detections_i = detector(_frame, classes=[0, 1, 2])\n",
    "\n",
    "    # boxes = _detections_i[0].boxes\n",
    "    if not _detections_i: print(f\"no detections in frame {_i_frame}\");continue\n",
    "\n",
    "    # detection_results.append(_detections_i) # QUESTION: Need to keep track of ALL detecitons?\n",
    "\n",
    "    objects_i = []\n",
    "    for _det in _detections_i[0].boxes: # 0: first (only) image | .boxes: list of detections\n",
    "        _dso = DeepSortObject(\n",
    "            id=int(_det.cls[0]),\n",
    "            label=LABELS_DICT.get(int(_dso.id), UNKNOWN_DEFAULT),\n",
    "            confidence=float(_det.conf[0]),\n",
    "            xyxy=_det.xyxy.tolist()[0],\n",
    "            mask=None # TODO get mask from detection\n",
    "        )\n",
    "        \n",
    "        objects_i.append(_dso)\n",
    "        "
   ]
  },
  {
   "cell_type": "code",
   "execution_count": 21,
   "metadata": {},
   "outputs": [
    {
     "name": "stdout",
     "output_type": "stream",
     "text": [
      "DeepSortObject(id=0, label='Pedestrian', confidence=0.8350500464439392, xyxy=[422.4808654785156, 202.17820739746094, 553.8821411132812, 467.69561767578125], mask=None)\n"
     ]
    }
   ],
   "source": [
    "print(objects_i[0])"
   ]
  },
  {
   "cell_type": "code",
   "execution_count": 6,
   "metadata": {},
   "outputs": [],
   "source": [
    "dets_i = detection_results[0]\n",
    "\n",
    "# _det_0 = _dets_i[0]\n",
    "\n",
    "# print(f\"confidences: {_det_0.conf[0]}\")\n",
    "# print(f\"classes: {LABELS_DICT.get(int(_det_0.cls[0]))} ({_det_0.cls[0]})\")\n",
    "\n"
   ]
  },
  {
   "cell_type": "code",
   "execution_count": 10,
   "metadata": {},
   "outputs": [
    {
     "name": "stdout",
     "output_type": "stream",
     "text": [
      "5\n"
     ]
    }
   ],
   "source": [
    "_dets_i = detection_results[0]\n",
    "\n",
    "objects_i = []\n",
    "for _det in _dets_i:\n",
    "    _dso = DeepSortObject()\n",
    "    _dso.id = int(_det.cls[0])\n",
    "    _dso.label = LABELS_DICT.get(int(_dso.id), UNKNOWN_DEFAULT)\n",
    "    _dso.confidence = float(_det.conf[0])\n",
    "    _dso.xyxy = _det.xyxy.tolist()[0]\n",
    "    _dso.mask = None\n",
    "    \n",
    "    objects_i.append(_dso)"
   ]
  },
  {
   "cell_type": "code",
   "execution_count": null,
   "metadata": {},
   "outputs": [],
   "source": []
  }
 ],
 "metadata": {
  "kernelspec": {
   "display_name": "Python 3",
   "language": "python",
   "name": "python3"
  },
  "language_info": {
   "codemirror_mode": {
    "name": "ipython",
    "version": 3
   },
   "file_extension": ".py",
   "mimetype": "text/x-python",
   "name": "python",
   "nbconvert_exporter": "python",
   "pygments_lexer": "ipython3",
   "version": "3.8.10"
  },
  "orig_nbformat": 4
 },
 "nbformat": 4,
 "nbformat_minor": 2
}
