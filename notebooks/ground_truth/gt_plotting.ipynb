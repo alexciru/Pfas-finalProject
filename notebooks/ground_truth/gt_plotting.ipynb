{
 "cells": [
  {
   "cell_type": "code",
   "execution_count": 2,
   "metadata": {},
   "outputs": [],
   "source": [
    "import os\n",
    "import pathlib\n",
    "import cv2 as cv\n",
    "import pandas as pd\n",
    "import numpy as np\n",
    "import matplotlib.pyplot as plt\n",
    "import plotly.express as px"
   ]
  },
  {
   "attachments": {},
   "cell_type": "markdown",
   "metadata": {},
   "source": [
    "## Path variables\n",
    "This section defines simply the absolute path to the direcoties where the ground truth (GT) data should be stored.\n",
    "\n",
    "Relative to the root fodler of the repo, it would be data/ground_truth/... but the `DATA_DIR` definition makes it agnostic to where you have your repo.\n",
    "\n",
    "**pathlib** is one of the correct ways to manage paths of location in your pc, NOT using strings straight away."
   ]
  },
  {
   "cell_type": "code",
   "execution_count": 3,
   "metadata": {},
   "outputs": [],
   "source": [
    "ROOT_DIR = pathlib.Path(os.getcwd()).parent\n",
    "DATA_DIR = ROOT_DIR / \"data/ground_truth\"\n",
    "SEQ_01 = DATA_DIR / \"seq_01\"\n",
    "SEQ_02 = DATA_DIR / \"seq_01\"\n",
    "SEQ_03 = DATA_DIR / \"seq_01\""
   ]
  },
  {
   "attachments": {},
   "cell_type": "markdown",
   "metadata": {},
   "source": [
    "# Accessing base information\n",
    "## Accessing frames"
   ]
  },
  {
   "cell_type": "code",
   "execution_count": 4,
   "metadata": {},
   "outputs": [],
   "source": [
    "def get_frames(frame_num_, seq_dir_):\n",
    "    \"\"\"\n",
    "    returns the right and left frames of the given sequence for a given frame number\n",
    "    :param frame_num_: frame number (int)\n",
    "    :param seq_dir_: sequence directory (pathlib.Path)\n",
    "    :return: right and left frame (np.ndarray, np.ndarray)\n",
    "    \"\"\"\n",
    "    _frame_name_r = str(seq_dir_ / \"image_02/data\" / f\"{frame_num_:010d}.png\")\n",
    "    _frame_name_l = str(seq_dir_ / \"image_03/data\" / f\"{frame_num_:010d}.png\")\n",
    "\n",
    "    if not os.path.isfile(_frame_name_r):\n",
    "        raise FileNotFoundError(f\"File {_frame_name_r} not found\")\n",
    "    if not os.path.isfile(_frame_name_l):\n",
    "        raise FileNotFoundError(f\"File {_frame_name_l} not found\")\n",
    "    \n",
    "    return cv.cvtColor(cv.imread(_frame_name_r), cv.COLOR_BGR2RGB), cv.cvtColor(cv.imread(_frame_name_l), cv.COLOR_BGR2RGB)"
   ]
  },
  {
   "attachments": {},
   "cell_type": "markdown",
   "metadata": {},
   "source": [
    "## Accessing ground truth\n"
   ]
  },
  {
   "cell_type": "code",
   "execution_count": 5,
   "metadata": {},
   "outputs": [],
   "source": [
    "def get_labels_df(seq_dir_):\n",
    "    \"\"\"\n",
    "    returns the labels (ground truth data) of the given sequence as a pandas dataframe\n",
    "    :param seq_dir_: sequence directory (pathlib.Path)\n",
    "    :return: labels dataframe (pd.DataFrame)\n",
    "    \"\"\"\n",
    "\n",
    "    _labels_file = str(seq_dir_ / \"labels.txt\")\n",
    "    headers = ['frame', 'track_id', 'type', 'truncated', 'occluded', 'alpha', 'bbox_left', 'bbox_top', 'bbox_right', 'bbox_bottom', 'height', 'width', 'length', 'x', 'y', 'z', 'yaw']\n",
    "    return pd.read_csv(_labels_file, sep=' ', header=None, names=headers)"
   ]
  },
  {
   "cell_type": "code",
   "execution_count": 6,
   "metadata": {},
   "outputs": [
    {
     "name": "stdout",
     "output_type": "stream",
     "text": [
      "pedestrian ids: [0 1 5 6 7 8 2 3 4]\n",
      "car ids: []\n",
      "cyclist ids: [ 9 10]\n"
     ]
    }
   ],
   "source": [
    "# get labels df\n",
    "labels_df = get_labels_df(SEQ_01)\n",
    "\n",
    "# make dfs for each type\n",
    "car_df = labels_df[labels_df['type'] == 'Car']\n",
    "pedestrian_df = labels_df[labels_df['type'] == 'Pedestrian']\n",
    "cyclist_df = labels_df[labels_df['type'] == 'Cyclist']\n",
    "\n",
    "print(f\"pedestrian ids: {pedestrian_df['track_id'].unique()}\")\n",
    "print(f\"car ids: {car_df['track_id'].unique()}\")\n",
    "print(f\"cyclist ids: {cyclist_df['track_id'].unique()}\")"
   ]
  },
  {
   "cell_type": "code",
   "execution_count": null,
   "metadata": {},
   "outputs": [],
   "source": []
  },
  {
   "attachments": {},
   "cell_type": "markdown",
   "metadata": {},
   "source": [
    "## Showing tracking in image"
   ]
  },
  {
   "cell_type": "code",
   "execution_count": 8,
   "metadata": {},
   "outputs": [
    {
     "ename": "IndexError",
     "evalue": "invalid index to scalar variable.",
     "output_type": "error",
     "traceback": [
      "\u001b[0;31m---------------------------------------------------------------------------\u001b[0m",
      "\u001b[0;31mIndexError\u001b[0m                                Traceback (most recent call last)",
      "Cell \u001b[0;32mIn[8], line 26\u001b[0m\n\u001b[1;32m     23\u001b[0m fr, fl \u001b[39m=\u001b[39m get_frames(_fr_num, seq)\n\u001b[1;32m     24\u001b[0m _bb \u001b[39m=\u001b[39m bbox_coords[_fr_num]\n\u001b[0;32m---> 26\u001b[0m plt\u001b[39m.\u001b[39mimshow(draw_bboxes(fr, _bb))\n\u001b[1;32m     27\u001b[0m plt\u001b[39m.\u001b[39mshow()\n\u001b[1;32m     28\u001b[0m plt\u001b[39m.\u001b[39mimshow(draw_bboxes(fl, _bb))\n",
      "Cell \u001b[0;32mIn[8], line 5\u001b[0m, in \u001b[0;36mdraw_bboxes\u001b[0;34m(frame_, bbox_coords_)\u001b[0m\n\u001b[1;32m      3\u001b[0m _frame \u001b[39m=\u001b[39m frame_\u001b[39m.\u001b[39mcopy()\n\u001b[1;32m      4\u001b[0m \u001b[39mfor\u001b[39;00m bbox \u001b[39min\u001b[39;00m bbox_coords_:\n\u001b[0;32m----> 5\u001b[0m     cv\u001b[39m.\u001b[39mrectangle(_frame, (\u001b[39mint\u001b[39m(bbox[\u001b[39m0\u001b[39;49m]), \u001b[39mint\u001b[39m(bbox[\u001b[39m1\u001b[39m])), (\u001b[39mint\u001b[39m(bbox[\u001b[39m2\u001b[39m]), \u001b[39mint\u001b[39m(bbox[\u001b[39m3\u001b[39m])), (\u001b[39m255\u001b[39m, \u001b[39m0\u001b[39m, \u001b[39m0\u001b[39m), \u001b[39m2\u001b[39m)\n\u001b[1;32m      6\u001b[0m \u001b[39mreturn\u001b[39;00m _frame\n",
      "\u001b[0;31mIndexError\u001b[0m: invalid index to scalar variable."
     ]
    }
   ],
   "source": [
    "# draw boxes on frame\n",
    "def draw_bboxes(frame_, bbox_coords_):\n",
    "    _frame = frame_.copy()\n",
    "    for bbox in bbox_coords_:\n",
    "        cv.rectangle(_frame, (int(bbox[0]), int(bbox[1])), (int(bbox[2]), int(bbox[3])), (255, 0, 0), 2)\n",
    "    return _frame\n",
    "\n",
    "# select sequence\n",
    "seq = SEQ_01\n",
    "\n",
    "labels_df = get_labels_df(seq)\n",
    "\n",
    "# get a specific tracked object's info\n",
    "track_id = 0\n",
    "test_df = pedestrian_df[pedestrian_df['track_id'] == track_id]\n",
    "\n",
    "frames = test_df['frame'].values\n",
    "world_coords = test_df[['x', 'y', 'z']].values\n",
    "bbox_coords = test_df[['bbox_left', 'bbox_top', 'bbox_right', 'bbox_bottom']].values\n",
    "\n",
    "# showing bboxes for object on a given frame \n",
    "_fr_num = 2\n",
    "fr, fl = get_frames(_fr_num, seq)\n",
    "_bb = bbox_coords[_fr_num]\n",
    "\n",
    "plt.imshow(draw_bboxes(fr, _bb))\n",
    "plt.show()\n",
    "plt.imshow(draw_bboxes(fl, _bb))"
   ]
  },
  {
   "cell_type": "code",
   "execution_count": 24,
   "metadata": {},
   "outputs": [
    {
     "data": {
      "text/html": [
       "<div>\n",
       "<style scoped>\n",
       "    .dataframe tbody tr th:only-of-type {\n",
       "        vertical-align: middle;\n",
       "    }\n",
       "\n",
       "    .dataframe tbody tr th {\n",
       "        vertical-align: top;\n",
       "    }\n",
       "\n",
       "    .dataframe thead th {\n",
       "        text-align: right;\n",
       "    }\n",
       "</style>\n",
       "<table border=\"1\" class=\"dataframe\">\n",
       "  <thead>\n",
       "    <tr style=\"text-align: right;\">\n",
       "      <th></th>\n",
       "      <th>frame</th>\n",
       "      <th>track_id</th>\n",
       "      <th>type</th>\n",
       "      <th>truncated</th>\n",
       "      <th>occluded</th>\n",
       "      <th>alpha</th>\n",
       "      <th>bbox_left</th>\n",
       "      <th>bbox_top</th>\n",
       "      <th>bbox_right</th>\n",
       "      <th>bbox_bottom</th>\n",
       "      <th>height</th>\n",
       "      <th>width</th>\n",
       "      <th>length</th>\n",
       "      <th>x</th>\n",
       "      <th>y</th>\n",
       "      <th>z</th>\n",
       "      <th>yaw</th>\n",
       "    </tr>\n",
       "  </thead>\n",
       "  <tbody>\n",
       "    <tr>\n",
       "      <th>14</th>\n",
       "      <td>2</td>\n",
       "      <td>0</td>\n",
       "      <td>Pedestrian</td>\n",
       "      <td>0</td>\n",
       "      <td>0</td>\n",
       "      <td>0.715472</td>\n",
       "      <td>500.018230</td>\n",
       "      <td>139.663180</td>\n",
       "      <td>573.351562</td>\n",
       "      <td>338.078276</td>\n",
       "      <td>1.744482</td>\n",
       "      <td>0.520582</td>\n",
       "      <td>0.834498</td>\n",
       "      <td>-0.644533</td>\n",
       "      <td>1.387421</td>\n",
       "      <td>6.667800</td>\n",
       "      <td>0.625631</td>\n",
       "    </tr>\n",
       "    <tr>\n",
       "      <th>15</th>\n",
       "      <td>2</td>\n",
       "      <td>1</td>\n",
       "      <td>Pedestrian</td>\n",
       "      <td>0</td>\n",
       "      <td>0</td>\n",
       "      <td>0.627206</td>\n",
       "      <td>419.250122</td>\n",
       "      <td>148.300070</td>\n",
       "      <td>508.916788</td>\n",
       "      <td>361.508474</td>\n",
       "      <td>1.625074</td>\n",
       "      <td>0.630655</td>\n",
       "      <td>0.721248</td>\n",
       "      <td>-1.120876</td>\n",
       "      <td>1.381648</td>\n",
       "      <td>5.825253</td>\n",
       "      <td>0.449083</td>\n",
       "    </tr>\n",
       "    <tr>\n",
       "      <th>16</th>\n",
       "      <td>2</td>\n",
       "      <td>5</td>\n",
       "      <td>Pedestrian</td>\n",
       "      <td>0</td>\n",
       "      <td>0</td>\n",
       "      <td>1.311974</td>\n",
       "      <td>486.577639</td>\n",
       "      <td>145.606103</td>\n",
       "      <td>506.577639</td>\n",
       "      <td>201.497437</td>\n",
       "      <td>1.677151</td>\n",
       "      <td>0.446023</td>\n",
       "      <td>0.749989</td>\n",
       "      <td>-3.304206</td>\n",
       "      <td>0.628733</td>\n",
       "      <td>21.647857</td>\n",
       "      <td>1.164883</td>\n",
       "    </tr>\n",
       "    <tr>\n",
       "      <th>17</th>\n",
       "      <td>2</td>\n",
       "      <td>6</td>\n",
       "      <td>Pedestrian</td>\n",
       "      <td>0</td>\n",
       "      <td>2</td>\n",
       "      <td>1.668191</td>\n",
       "      <td>525.932811</td>\n",
       "      <td>137.177514</td>\n",
       "      <td>543.599477</td>\n",
       "      <td>191.459852</td>\n",
       "      <td>1.952553</td>\n",
       "      <td>0.628458</td>\n",
       "      <td>0.744739</td>\n",
       "      <td>-2.649923</td>\n",
       "      <td>0.391455</td>\n",
       "      <td>25.910697</td>\n",
       "      <td>1.569708</td>\n",
       "    </tr>\n",
       "    <tr>\n",
       "      <th>18</th>\n",
       "      <td>2</td>\n",
       "      <td>7</td>\n",
       "      <td>Pedestrian</td>\n",
       "      <td>0</td>\n",
       "      <td>1</td>\n",
       "      <td>1.575351</td>\n",
       "      <td>544.353865</td>\n",
       "      <td>142.856799</td>\n",
       "      <td>557.020532</td>\n",
       "      <td>190.783793</td>\n",
       "      <td>1.709764</td>\n",
       "      <td>0.597256</td>\n",
       "      <td>0.524796</td>\n",
       "      <td>-1.902125</td>\n",
       "      <td>0.364594</td>\n",
       "      <td>25.589453</td>\n",
       "      <td>1.504280</td>\n",
       "    </tr>\n",
       "    <tr>\n",
       "      <th>19</th>\n",
       "      <td>2</td>\n",
       "      <td>8</td>\n",
       "      <td>Pedestrian</td>\n",
       "      <td>0</td>\n",
       "      <td>0</td>\n",
       "      <td>1.415165</td>\n",
       "      <td>567.398873</td>\n",
       "      <td>145.231662</td>\n",
       "      <td>580.065540</td>\n",
       "      <td>191.331787</td>\n",
       "      <td>1.590542</td>\n",
       "      <td>0.464626</td>\n",
       "      <td>0.670820</td>\n",
       "      <td>-1.082814</td>\n",
       "      <td>0.371670</td>\n",
       "      <td>24.795400</td>\n",
       "      <td>1.374295</td>\n",
       "    </tr>\n",
       "  </tbody>\n",
       "</table>\n",
       "</div>"
      ],
      "text/plain": [
       "    frame  track_id        type  truncated  occluded     alpha   bbox_left   \n",
       "14      2         0  Pedestrian          0         0  0.715472  500.018230  \\\n",
       "15      2         1  Pedestrian          0         0  0.627206  419.250122   \n",
       "16      2         5  Pedestrian          0         0  1.311974  486.577639   \n",
       "17      2         6  Pedestrian          0         2  1.668191  525.932811   \n",
       "18      2         7  Pedestrian          0         1  1.575351  544.353865   \n",
       "19      2         8  Pedestrian          0         0  1.415165  567.398873   \n",
       "\n",
       "      bbox_top  bbox_right  bbox_bottom    height     width    length   \n",
       "14  139.663180  573.351562   338.078276  1.744482  0.520582  0.834498  \\\n",
       "15  148.300070  508.916788   361.508474  1.625074  0.630655  0.721248   \n",
       "16  145.606103  506.577639   201.497437  1.677151  0.446023  0.749989   \n",
       "17  137.177514  543.599477   191.459852  1.952553  0.628458  0.744739   \n",
       "18  142.856799  557.020532   190.783793  1.709764  0.597256  0.524796   \n",
       "19  145.231662  580.065540   191.331787  1.590542  0.464626  0.670820   \n",
       "\n",
       "           x         y          z       yaw  \n",
       "14 -0.644533  1.387421   6.667800  0.625631  \n",
       "15 -1.120876  1.381648   5.825253  0.449083  \n",
       "16 -3.304206  0.628733  21.647857  1.164883  \n",
       "17 -2.649923  0.391455  25.910697  1.569708  \n",
       "18 -1.902125  0.364594  25.589453  1.504280  \n",
       "19 -1.082814  0.371670  24.795400  1.374295  "
      ]
     },
     "execution_count": 24,
     "metadata": {},
     "output_type": "execute_result"
    }
   ],
   "source": [
    "# filter pedestrian for frame two\n",
    "pedestrian_df[pedestrian_df['frame'] == 2]"
   ]
  },
  {
   "attachments": {},
   "cell_type": "markdown",
   "metadata": {},
   "source": [
    "## Plotting 3D Coordinates"
   ]
  },
  {
   "cell_type": "code",
   "execution_count": 68,
   "metadata": {},
   "outputs": [
    {
     "data": {
      "application/vnd.plotly.v1+json": {
       "config": {
        "plotlyServerURL": "https://plot.ly"
       },
       "data": [
        {
         "hovertemplate": "x=%{x}<br>y=%{y}<br>text=%{text}<extra></extra>",
         "legendgroup": "",
         "marker": {
          "color": "#636efa",
          "symbol": "circle"
         },
         "mode": "markers+text",
         "name": "",
         "orientation": "v",
         "showlegend": false,
         "text": [
          0,
          1,
          2,
          3,
          4,
          5,
          6,
          7,
          8,
          9,
          10,
          11,
          12,
          13,
          14,
          15,
          16,
          17,
          18,
          19,
          20,
          21,
          22,
          23,
          24,
          25,
          26,
          27,
          28,
          29,
          30,
          31,
          32,
          33,
          34,
          35,
          36,
          37,
          38,
          39,
          40
         ],
         "type": "scatter",
         "x": [
          -0.875495,
          -0.760014,
          -0.644533,
          -0.529052,
          -0.413571,
          -0.29809,
          -0.179398,
          -0.060706,
          0.057985,
          0.176677,
          0.295369,
          0.360409,
          0.452753,
          0.545096,
          0.63744,
          0.729784,
          0.822128,
          0.914471,
          1.006815,
          1.099159,
          1.191503,
          1.28659,
          1.381678,
          1.476765,
          1.577119,
          1.677472,
          1.777826,
          1.87818,
          1.978534,
          2.078887,
          2.179241,
          2.259998,
          2.340754,
          2.421511,
          2.502267,
          2.603498,
          2.704729,
          2.80596,
          2.907192,
          3.008423,
          3.109654
         ],
         "xaxis": "x",
         "y": [
          1.374252,
          1.380837,
          1.387421,
          1.394005,
          1.400589,
          1.407173,
          1.414385,
          1.421597,
          1.428809,
          1.436022,
          1.443234,
          1.443074,
          1.443385,
          1.443696,
          1.444006,
          1.444317,
          1.444628,
          1.444939,
          1.445249,
          1.44556,
          1.445871,
          1.450478,
          1.455085,
          1.459693,
          1.460575,
          1.461458,
          1.462341,
          1.463223,
          1.464106,
          1.464989,
          1.465871,
          1.467545,
          1.469219,
          1.470893,
          1.472567,
          1.472181,
          1.471795,
          1.471409,
          1.471023,
          1.470636,
          1.47025
         ],
         "yaxis": "y"
        }
       ],
       "layout": {
        "legend": {
         "tracegroupgap": 0
        },
        "margin": {
         "t": 60
        },
        "template": {
         "data": {
          "bar": [
           {
            "error_x": {
             "color": "#2a3f5f"
            },
            "error_y": {
             "color": "#2a3f5f"
            },
            "marker": {
             "line": {
              "color": "#E5ECF6",
              "width": 0.5
             },
             "pattern": {
              "fillmode": "overlay",
              "size": 10,
              "solidity": 0.2
             }
            },
            "type": "bar"
           }
          ],
          "barpolar": [
           {
            "marker": {
             "line": {
              "color": "#E5ECF6",
              "width": 0.5
             },
             "pattern": {
              "fillmode": "overlay",
              "size": 10,
              "solidity": 0.2
             }
            },
            "type": "barpolar"
           }
          ],
          "carpet": [
           {
            "aaxis": {
             "endlinecolor": "#2a3f5f",
             "gridcolor": "white",
             "linecolor": "white",
             "minorgridcolor": "white",
             "startlinecolor": "#2a3f5f"
            },
            "baxis": {
             "endlinecolor": "#2a3f5f",
             "gridcolor": "white",
             "linecolor": "white",
             "minorgridcolor": "white",
             "startlinecolor": "#2a3f5f"
            },
            "type": "carpet"
           }
          ],
          "choropleth": [
           {
            "colorbar": {
             "outlinewidth": 0,
             "ticks": ""
            },
            "type": "choropleth"
           }
          ],
          "contour": [
           {
            "colorbar": {
             "outlinewidth": 0,
             "ticks": ""
            },
            "colorscale": [
             [
              0,
              "#0d0887"
             ],
             [
              0.1111111111111111,
              "#46039f"
             ],
             [
              0.2222222222222222,
              "#7201a8"
             ],
             [
              0.3333333333333333,
              "#9c179e"
             ],
             [
              0.4444444444444444,
              "#bd3786"
             ],
             [
              0.5555555555555556,
              "#d8576b"
             ],
             [
              0.6666666666666666,
              "#ed7953"
             ],
             [
              0.7777777777777778,
              "#fb9f3a"
             ],
             [
              0.8888888888888888,
              "#fdca26"
             ],
             [
              1,
              "#f0f921"
             ]
            ],
            "type": "contour"
           }
          ],
          "contourcarpet": [
           {
            "colorbar": {
             "outlinewidth": 0,
             "ticks": ""
            },
            "type": "contourcarpet"
           }
          ],
          "heatmap": [
           {
            "colorbar": {
             "outlinewidth": 0,
             "ticks": ""
            },
            "colorscale": [
             [
              0,
              "#0d0887"
             ],
             [
              0.1111111111111111,
              "#46039f"
             ],
             [
              0.2222222222222222,
              "#7201a8"
             ],
             [
              0.3333333333333333,
              "#9c179e"
             ],
             [
              0.4444444444444444,
              "#bd3786"
             ],
             [
              0.5555555555555556,
              "#d8576b"
             ],
             [
              0.6666666666666666,
              "#ed7953"
             ],
             [
              0.7777777777777778,
              "#fb9f3a"
             ],
             [
              0.8888888888888888,
              "#fdca26"
             ],
             [
              1,
              "#f0f921"
             ]
            ],
            "type": "heatmap"
           }
          ],
          "heatmapgl": [
           {
            "colorbar": {
             "outlinewidth": 0,
             "ticks": ""
            },
            "colorscale": [
             [
              0,
              "#0d0887"
             ],
             [
              0.1111111111111111,
              "#46039f"
             ],
             [
              0.2222222222222222,
              "#7201a8"
             ],
             [
              0.3333333333333333,
              "#9c179e"
             ],
             [
              0.4444444444444444,
              "#bd3786"
             ],
             [
              0.5555555555555556,
              "#d8576b"
             ],
             [
              0.6666666666666666,
              "#ed7953"
             ],
             [
              0.7777777777777778,
              "#fb9f3a"
             ],
             [
              0.8888888888888888,
              "#fdca26"
             ],
             [
              1,
              "#f0f921"
             ]
            ],
            "type": "heatmapgl"
           }
          ],
          "histogram": [
           {
            "marker": {
             "pattern": {
              "fillmode": "overlay",
              "size": 10,
              "solidity": 0.2
             }
            },
            "type": "histogram"
           }
          ],
          "histogram2d": [
           {
            "colorbar": {
             "outlinewidth": 0,
             "ticks": ""
            },
            "colorscale": [
             [
              0,
              "#0d0887"
             ],
             [
              0.1111111111111111,
              "#46039f"
             ],
             [
              0.2222222222222222,
              "#7201a8"
             ],
             [
              0.3333333333333333,
              "#9c179e"
             ],
             [
              0.4444444444444444,
              "#bd3786"
             ],
             [
              0.5555555555555556,
              "#d8576b"
             ],
             [
              0.6666666666666666,
              "#ed7953"
             ],
             [
              0.7777777777777778,
              "#fb9f3a"
             ],
             [
              0.8888888888888888,
              "#fdca26"
             ],
             [
              1,
              "#f0f921"
             ]
            ],
            "type": "histogram2d"
           }
          ],
          "histogram2dcontour": [
           {
            "colorbar": {
             "outlinewidth": 0,
             "ticks": ""
            },
            "colorscale": [
             [
              0,
              "#0d0887"
             ],
             [
              0.1111111111111111,
              "#46039f"
             ],
             [
              0.2222222222222222,
              "#7201a8"
             ],
             [
              0.3333333333333333,
              "#9c179e"
             ],
             [
              0.4444444444444444,
              "#bd3786"
             ],
             [
              0.5555555555555556,
              "#d8576b"
             ],
             [
              0.6666666666666666,
              "#ed7953"
             ],
             [
              0.7777777777777778,
              "#fb9f3a"
             ],
             [
              0.8888888888888888,
              "#fdca26"
             ],
             [
              1,
              "#f0f921"
             ]
            ],
            "type": "histogram2dcontour"
           }
          ],
          "mesh3d": [
           {
            "colorbar": {
             "outlinewidth": 0,
             "ticks": ""
            },
            "type": "mesh3d"
           }
          ],
          "parcoords": [
           {
            "line": {
             "colorbar": {
              "outlinewidth": 0,
              "ticks": ""
             }
            },
            "type": "parcoords"
           }
          ],
          "pie": [
           {
            "automargin": true,
            "type": "pie"
           }
          ],
          "scatter": [
           {
            "fillpattern": {
             "fillmode": "overlay",
             "size": 10,
             "solidity": 0.2
            },
            "type": "scatter"
           }
          ],
          "scatter3d": [
           {
            "line": {
             "colorbar": {
              "outlinewidth": 0,
              "ticks": ""
             }
            },
            "marker": {
             "colorbar": {
              "outlinewidth": 0,
              "ticks": ""
             }
            },
            "type": "scatter3d"
           }
          ],
          "scattercarpet": [
           {
            "marker": {
             "colorbar": {
              "outlinewidth": 0,
              "ticks": ""
             }
            },
            "type": "scattercarpet"
           }
          ],
          "scattergeo": [
           {
            "marker": {
             "colorbar": {
              "outlinewidth": 0,
              "ticks": ""
             }
            },
            "type": "scattergeo"
           }
          ],
          "scattergl": [
           {
            "marker": {
             "colorbar": {
              "outlinewidth": 0,
              "ticks": ""
             }
            },
            "type": "scattergl"
           }
          ],
          "scattermapbox": [
           {
            "marker": {
             "colorbar": {
              "outlinewidth": 0,
              "ticks": ""
             }
            },
            "type": "scattermapbox"
           }
          ],
          "scatterpolar": [
           {
            "marker": {
             "colorbar": {
              "outlinewidth": 0,
              "ticks": ""
             }
            },
            "type": "scatterpolar"
           }
          ],
          "scatterpolargl": [
           {
            "marker": {
             "colorbar": {
              "outlinewidth": 0,
              "ticks": ""
             }
            },
            "type": "scatterpolargl"
           }
          ],
          "scatterternary": [
           {
            "marker": {
             "colorbar": {
              "outlinewidth": 0,
              "ticks": ""
             }
            },
            "type": "scatterternary"
           }
          ],
          "surface": [
           {
            "colorbar": {
             "outlinewidth": 0,
             "ticks": ""
            },
            "colorscale": [
             [
              0,
              "#0d0887"
             ],
             [
              0.1111111111111111,
              "#46039f"
             ],
             [
              0.2222222222222222,
              "#7201a8"
             ],
             [
              0.3333333333333333,
              "#9c179e"
             ],
             [
              0.4444444444444444,
              "#bd3786"
             ],
             [
              0.5555555555555556,
              "#d8576b"
             ],
             [
              0.6666666666666666,
              "#ed7953"
             ],
             [
              0.7777777777777778,
              "#fb9f3a"
             ],
             [
              0.8888888888888888,
              "#fdca26"
             ],
             [
              1,
              "#f0f921"
             ]
            ],
            "type": "surface"
           }
          ],
          "table": [
           {
            "cells": {
             "fill": {
              "color": "#EBF0F8"
             },
             "line": {
              "color": "white"
             }
            },
            "header": {
             "fill": {
              "color": "#C8D4E3"
             },
             "line": {
              "color": "white"
             }
            },
            "type": "table"
           }
          ]
         },
         "layout": {
          "annotationdefaults": {
           "arrowcolor": "#2a3f5f",
           "arrowhead": 0,
           "arrowwidth": 1
          },
          "autotypenumbers": "strict",
          "coloraxis": {
           "colorbar": {
            "outlinewidth": 0,
            "ticks": ""
           }
          },
          "colorscale": {
           "diverging": [
            [
             0,
             "#8e0152"
            ],
            [
             0.1,
             "#c51b7d"
            ],
            [
             0.2,
             "#de77ae"
            ],
            [
             0.3,
             "#f1b6da"
            ],
            [
             0.4,
             "#fde0ef"
            ],
            [
             0.5,
             "#f7f7f7"
            ],
            [
             0.6,
             "#e6f5d0"
            ],
            [
             0.7,
             "#b8e186"
            ],
            [
             0.8,
             "#7fbc41"
            ],
            [
             0.9,
             "#4d9221"
            ],
            [
             1,
             "#276419"
            ]
           ],
           "sequential": [
            [
             0,
             "#0d0887"
            ],
            [
             0.1111111111111111,
             "#46039f"
            ],
            [
             0.2222222222222222,
             "#7201a8"
            ],
            [
             0.3333333333333333,
             "#9c179e"
            ],
            [
             0.4444444444444444,
             "#bd3786"
            ],
            [
             0.5555555555555556,
             "#d8576b"
            ],
            [
             0.6666666666666666,
             "#ed7953"
            ],
            [
             0.7777777777777778,
             "#fb9f3a"
            ],
            [
             0.8888888888888888,
             "#fdca26"
            ],
            [
             1,
             "#f0f921"
            ]
           ],
           "sequentialminus": [
            [
             0,
             "#0d0887"
            ],
            [
             0.1111111111111111,
             "#46039f"
            ],
            [
             0.2222222222222222,
             "#7201a8"
            ],
            [
             0.3333333333333333,
             "#9c179e"
            ],
            [
             0.4444444444444444,
             "#bd3786"
            ],
            [
             0.5555555555555556,
             "#d8576b"
            ],
            [
             0.6666666666666666,
             "#ed7953"
            ],
            [
             0.7777777777777778,
             "#fb9f3a"
            ],
            [
             0.8888888888888888,
             "#fdca26"
            ],
            [
             1,
             "#f0f921"
            ]
           ]
          },
          "colorway": [
           "#636efa",
           "#EF553B",
           "#00cc96",
           "#ab63fa",
           "#FFA15A",
           "#19d3f3",
           "#FF6692",
           "#B6E880",
           "#FF97FF",
           "#FECB52"
          ],
          "font": {
           "color": "#2a3f5f"
          },
          "geo": {
           "bgcolor": "white",
           "lakecolor": "white",
           "landcolor": "#E5ECF6",
           "showlakes": true,
           "showland": true,
           "subunitcolor": "white"
          },
          "hoverlabel": {
           "align": "left"
          },
          "hovermode": "closest",
          "mapbox": {
           "style": "light"
          },
          "paper_bgcolor": "white",
          "plot_bgcolor": "#E5ECF6",
          "polar": {
           "angularaxis": {
            "gridcolor": "white",
            "linecolor": "white",
            "ticks": ""
           },
           "bgcolor": "#E5ECF6",
           "radialaxis": {
            "gridcolor": "white",
            "linecolor": "white",
            "ticks": ""
           }
          },
          "scene": {
           "xaxis": {
            "backgroundcolor": "#E5ECF6",
            "gridcolor": "white",
            "gridwidth": 2,
            "linecolor": "white",
            "showbackground": true,
            "ticks": "",
            "zerolinecolor": "white"
           },
           "yaxis": {
            "backgroundcolor": "#E5ECF6",
            "gridcolor": "white",
            "gridwidth": 2,
            "linecolor": "white",
            "showbackground": true,
            "ticks": "",
            "zerolinecolor": "white"
           },
           "zaxis": {
            "backgroundcolor": "#E5ECF6",
            "gridcolor": "white",
            "gridwidth": 2,
            "linecolor": "white",
            "showbackground": true,
            "ticks": "",
            "zerolinecolor": "white"
           }
          },
          "shapedefaults": {
           "line": {
            "color": "#2a3f5f"
           }
          },
          "ternary": {
           "aaxis": {
            "gridcolor": "white",
            "linecolor": "white",
            "ticks": ""
           },
           "baxis": {
            "gridcolor": "white",
            "linecolor": "white",
            "ticks": ""
           },
           "bgcolor": "#E5ECF6",
           "caxis": {
            "gridcolor": "white",
            "linecolor": "white",
            "ticks": ""
           }
          },
          "title": {
           "x": 0.05
          },
          "xaxis": {
           "automargin": true,
           "gridcolor": "white",
           "linecolor": "white",
           "ticks": "",
           "title": {
            "standoff": 15
           },
           "zerolinecolor": "white",
           "zerolinewidth": 2
          },
          "yaxis": {
           "automargin": true,
           "gridcolor": "white",
           "linecolor": "white",
           "ticks": "",
           "title": {
            "standoff": 15
           },
           "zerolinecolor": "white",
           "zerolinewidth": 2
          }
         }
        },
        "xaxis": {
         "anchor": "y",
         "domain": [
          0,
          1
         ],
         "range": [
          -2,
          5
         ],
         "title": {
          "text": "x"
         }
        },
        "yaxis": {
         "anchor": "x",
         "domain": [
          0,
          1
         ],
         "range": [
          0,
          5
         ],
         "title": {
          "text": "y"
         }
        }
       }
      }
     },
     "metadata": {},
     "output_type": "display_data"
    }
   ],
   "source": [
    "# plot the world coordinates in 3D, with frame next to the point as text with plotly\n",
    "# fig = px.scatter_3d(x=world_coords[:, 0], y=world_coords[:, 1], z=world_coords[:, 2], text=frames)\n",
    "fig = px.scatter(x=world_coords[:, 0], y=world_coords[:, 1], text=frames)\n",
    "# show origin 0,0 on plot\n",
    "plot_w = 5\n",
    "plot_h = 5\n",
    "fig.update_xaxes(range=[-2, plot_w])\n",
    "fig.update_yaxes(range=[-0, plot_h])\n",
    "fig.show()"
   ]
  }
 ],
 "metadata": {
  "kernelspec": {
   "display_name": "venv_pfas",
   "language": "python",
   "name": "python3"
  },
  "language_info": {
   "codemirror_mode": {
    "name": "ipython",
    "version": 3
   },
   "file_extension": ".py",
   "mimetype": "text/x-python",
   "name": "python",
   "nbconvert_exporter": "python",
   "pygments_lexer": "ipython3",
   "version": "3.8.10"
  },
  "orig_nbformat": 4
 },
 "nbformat": 4,
 "nbformat_minor": 2
}
