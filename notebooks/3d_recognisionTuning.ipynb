{
 "cells": [
  {
   "attachments": {},
   "cell_type": "markdown",
   "metadata": {},
   "source": [
    "### Notebook used to test the 3D contrucstion based on feature detection and depth stimation\n",
    "\n",
    "To test it:\n",
    "- Obtain Features of two frames\n",
    "- Match the feature\n",
    "- Stimate depth\n",
    "- stimate pose"
   ]
  },
  {
   "cell_type": "markdown",
   "metadata": {},
   "source": []
  },
  {
   "cell_type": "code",
   "execution_count": 2,
   "metadata": {},
   "outputs": [],
   "source": [
    "import numpy as np\n",
    "import cv2\n",
    "import glob\n",
    "import matplotlib.pyplot as plt\n",
    "import os"
   ]
  },
  {
   "cell_type": "code",
   "execution_count": 3,
   "metadata": {},
   "outputs": [
    {
     "name": "stdout",
     "output_type": "stream",
     "text": [
      "145\n"
     ]
    }
   ],
   "source": [
    "\n",
    "DATASET_PATH = \"final_project_data/originals/\"\n",
    "DATASET_NOT_REC = \"final_project_data/\"\n",
    "\n",
    "## Get the images\n",
    "left_images = glob.glob(DATASET_PATH + \"/seq_1/image_02/data/*.png\")\n",
    "right_images = glob.glob(DATASET_PATH + \"/seq_1/image_03/data/*.png\")\n",
    "left_images.sort()\n",
    "right_images.sort()\n",
    "\n",
    "left_images_not_rectified = glob.glob(DATASET_NOT_REC + \"/seq_01/image_02/data/*.png\")\n",
    "right_images_not_rectified = glob.glob(DATASET_NOT_REC + \"/seq_01/image_03/data/*.png\")\n",
    "\n",
    "maxTimeStep = len(right_images)\n",
    "print(maxTimeStep)\n",
    "\n",
    "old_disparity = new_disparity = None"
   ]
  },
  {
   "cell_type": "code",
   "execution_count": 4,
   "metadata": {},
   "outputs": [],
   "source": [
    "# Create a stereoBM object and tweak the parameters to obtain the best disparity map\n",
    "\n",
    "def nothing(x):\n",
    "    pass\n",
    "\n",
    "def blockMatchingMap(left_img, right_img):\n",
    "    \"\"\"Function using the block matching algorithm to compute the disparity map\n",
    "\n",
    "    Args:\n",
    "        left_img (ndarray): color image of the left camera\n",
    "        right_img (ndarray): color image of the right camera\n",
    "\n",
    "    Returns:\n",
    "        stereo: the block matching object\n",
    "        disparity: the disparity map\n",
    "    \"\"\"    \n",
    "    \n",
    "    cv2.namedWindow('disp',cv2.WINDOW_NORMAL)\n",
    "    cv2.resizeWindow('disp',800,800)\n",
    "    \n",
    "    ###### Default values ######\n",
    "    blockSize = 13          # odd number\n",
    "    numDisparities = 7  # multiple of 16\n",
    "    preFilterSize = 5\n",
    "    preFilterCap = 3\n",
    "    textureThreshold = 10\n",
    "    uniquenessRatio = 1\n",
    "\n",
    "    # affect the noise\n",
    "    speckleRange = 50\n",
    "    speckleWindowSize = 54\n",
    "\n",
    "    disp12MaxDiff = 1\n",
    "    minDisparity = 3\n",
    "    ###################\n",
    "    \n",
    "    cv2.createTrackbar('minDisparity','disp',minDisparity,25,nothing)\n",
    "    cv2.createTrackbar('numDisparities','disp',numDisparities,17,nothing)\n",
    "    cv2.createTrackbar('blockSize','disp',blockSize,50,nothing)\n",
    "    # cv2.createTrackbar('preFilterType','disp',1,1,nothing)\n",
    "    cv2.createTrackbar('preFilterSize','disp',preFilterSize,25,nothing)\n",
    "    cv2.createTrackbar('preFilterCap','disp',preFilterCap,62,nothing)\n",
    "    cv2.createTrackbar('textureThreshold','disp',textureThreshold,100,nothing)\n",
    "    cv2.createTrackbar('disp12MaxDiff','disp',disp12MaxDiff,25,nothing)\n",
    "    cv2.createTrackbar('uniquenessRatio','disp',uniquenessRatio,100,nothing)\n",
    "    cv2.createTrackbar('speckleRange','disp',speckleRange,100,nothing)\n",
    "    cv2.createTrackbar('speckleWindowSize','disp',speckleWindowSize,100,nothing)\n",
    "    \n",
    "    # Creating an object of StereoBM algorithm\n",
    "    stereo = cv2.StereoBM_create()\n",
    "\n",
    "    # convert images to grayscale for template matching\n",
    "    left_image = cv2.cvtColor(left_img, cv2.COLOR_BGR2GRAY)\n",
    "    right_image = cv2.cvtColor(right_img, cv2.COLOR_BGR2GRAY)\n",
    "\n",
    "    \n",
    "    while True:\n",
    "        \n",
    "        # Updating the parameters based on the trackbar positions\n",
    "        numDisparities = cv2.getTrackbarPos('numDisparities','disp')*16\n",
    "        numDisparities = 16 if numDisparities == 0 else numDisparities\n",
    "        blockSize = cv2.getTrackbarPos('blockSize','disp')\n",
    "        preFilterCap = cv2.getTrackbarPos('preFilterCap','disp')\n",
    "        preFilterCap = 1 if preFilterCap == 0 else preFilterCap\n",
    "        if blockSize % 2 == 0:\n",
    "            blockSize += 1\n",
    "\n",
    "        if blockSize < 5:\n",
    "            blockSize = 5\n",
    "\n",
    "        # preFilterType = cv2.getTrackbarPos('preFilterType','disp')\n",
    "        preFilterSize = cv2.getTrackbarPos('preFilterSize','disp')*2 + 5\n",
    "        textureThreshold = cv2.getTrackbarPos('textureThreshold','disp')\n",
    "        uniquenessRatio = cv2.getTrackbarPos('uniquenessRatio','disp')\n",
    "        speckleRange = cv2.getTrackbarPos('speckleRange','disp')\n",
    "        speckleWindowSize = cv2.getTrackbarPos('speckleWindowSize','disp')\n",
    "        disp12MaxDiff = cv2.getTrackbarPos('disp12MaxDiff','disp')\n",
    "        minDisparity = cv2.getTrackbarPos('minDisparity','disp')\n",
    "            \n",
    "        # Setting the updated parameters before computing disparity map\n",
    "        stereo.setNumDisparities(numDisparities)\n",
    "        stereo.setBlockSize(blockSize)\n",
    "        stereo.setPreFilterType(1)\n",
    "        stereo.setPreFilterSize(preFilterSize)\n",
    "        stereo.setPreFilterCap(preFilterCap)\n",
    "        stereo.setTextureThreshold(textureThreshold)\n",
    "        stereo.setUniquenessRatio(uniquenessRatio)\n",
    "        stereo.setSpeckleRange(speckleRange)\n",
    "        stereo.setSpeckleWindowSize(speckleWindowSize)\n",
    "        stereo.setDisp12MaxDiff(disp12MaxDiff)\n",
    "        stereo.setMinDisparity(minDisparity)\n",
    "\n",
    "        # Calculating disparity using the StereoBM algorithm\n",
    "        disparity =  stereo.compute(left_image, right_image).astype(np.float32)\n",
    "        # NOTE: Code returns a 16bit signed single channel image,\n",
    "        # CV_16S containing a disparity map scaled by 16. Hence it \n",
    "        # is essential to convert it to CV_32F and scale it down 16 times.\n",
    "\n",
    "\n",
    "        # Scaling down the disparity values and normalizing them \n",
    "        disparity = (disparity/16.0 - minDisparity)/numDisparities\n",
    "\n",
    "        # Displaying the disparity map\n",
    "        cv2.imshow(\"disp\",disparity)\n",
    "    \n",
    "        # Close window using esc key\n",
    "        if cv2.waitKey(1) == 27:\n",
    "            break \n",
    "    cv2.destroyAllWindows()\n",
    "    return stereo, disparity"
   ]
  },
  {
   "cell_type": "code",
   "execution_count": 10,
   "metadata": {},
   "outputs": [],
   "source": [
    "def nothing(x):\n",
    "    pass\n",
    "\n",
    "def semiGlobalMatchMap(left_img, right_img):\n",
    "    \"\"\"Function using the SGMBM algorithm to compute the disparity map\n",
    "\n",
    "    Args:\n",
    "        left_img (ndarray): color image of the left camera\n",
    "        right_img (ndarray): color image of the right camera\n",
    "\n",
    "    Returns:\n",
    "        stereo: the SGMBM object\n",
    "        disparity: the disparity map\n",
    "    \"\"\"    \n",
    "    \n",
    "    cv2.namedWindow('disp',cv2.WINDOW_NORMAL)\n",
    "    cv2.resizeWindow('disp',800,800)\n",
    "    \n",
    "    ###### Default values ######\n",
    "    blockSize = 13          # odd number\n",
    "    numDisparities = 7  # multiple of 16\n",
    "    preFilterSize = 5\n",
    "    preFilterCap = 3\n",
    "    textureThreshold = 10\n",
    "    uniquenessRatio = 1\n",
    "\n",
    "    # affect the noise\n",
    "    speckleRange = 50\n",
    "    speckleWindowSize = 54\n",
    "\n",
    "    disp12MaxDiff = 1\n",
    "    minDisparity = 3\n",
    "    ###################\n",
    "    \n",
    "    cv2.createTrackbar('minDisparity','disp',minDisparity,25,nothing)\n",
    "    cv2.createTrackbar('numDisparities','disp',numDisparities,17,nothing)\n",
    "    cv2.createTrackbar('blockSize','disp',blockSize,50,nothing)\n",
    "    cv2.createTrackbar('preFilterCap','disp',preFilterCap,62,nothing)\n",
    "    cv2.createTrackbar('disp12MaxDiff','disp',disp12MaxDiff,25,nothing)\n",
    "    cv2.createTrackbar('uniquenessRatio','disp',uniquenessRatio,100,nothing)\n",
    "    cv2.createTrackbar('speckleRange','disp',speckleRange,100,nothing)\n",
    "    cv2.createTrackbar('speckleWindowSize','disp',speckleWindowSize,100,nothing)\n",
    "    \n",
    "    # Creating an object of StereoBM algorithm\n",
    "    stereo = cv2.StereoSGBM_create()\n",
    "\n",
    "    # convert images to grayscale for template matching\n",
    "    left_image = cv2.cvtColor(left_img, cv2.COLOR_BGR2GRAY)\n",
    "    right_image = cv2.cvtColor(right_img, cv2.COLOR_BGR2GRAY)\n",
    "\n",
    "    \n",
    "    while True:\n",
    "        \n",
    "        # Updating the parameters based on the trackbar positions\n",
    "        numDisparities = cv2.getTrackbarPos('numDisparities','disp')*16\n",
    "        numDisparities = 16 if numDisparities == 0 else numDisparities\n",
    "        blockSize = cv2.getTrackbarPos('blockSize','disp')\n",
    "        preFilterCap = cv2.getTrackbarPos('preFilterCap','disp')\n",
    "        preFilterCap = 1 if preFilterCap == 0 else preFilterCap\n",
    "        if blockSize % 2 == 0:\n",
    "            blockSize += 1\n",
    "\n",
    "        if blockSize < 5:\n",
    "            blockSize = 5\n",
    "\n",
    "        uniquenessRatio = cv2.getTrackbarPos('uniquenessRatio','disp')\n",
    "        speckleRange = cv2.getTrackbarPos('speckleRange','disp')\n",
    "        speckleWindowSize = cv2.getTrackbarPos('speckleWindowSize','disp')\n",
    "        disp12MaxDiff = cv2.getTrackbarPos('disp12MaxDiff','disp')\n",
    "        minDisparity = cv2.getTrackbarPos('minDisparity','disp')\n",
    "            \n",
    "        # Setting the updated parameters before computing disparity map\n",
    "        stereo.setNumDisparities(numDisparities)\n",
    "        stereo.setBlockSize(blockSize)\n",
    "        stereo.setUniquenessRatio(uniquenessRatio)\n",
    "        stereo.setSpeckleRange(speckleRange)\n",
    "        stereo.setSpeckleWindowSize(speckleWindowSize)\n",
    "        stereo.setDisp12MaxDiff(disp12MaxDiff)\n",
    "        stereo.setMinDisparity(minDisparity)\n",
    "        stereo.setP1(8*3*blockSize**2)\n",
    "        stereo.setP2(32*3*blockSize**2)\n",
    "\n",
    "        # Calculating disparity using the StereoBM algorithm\n",
    "        disparity =  stereo.compute(left_image, right_image).astype(np.float32)\n",
    "        # NOTE: Code returns a 16bit signed single channel image,\n",
    "        # CV_16S containing a disparity map scaled by 16. Hence it \n",
    "        # is essential to convert it to CV_32F and scale it down 16 times.\n",
    "\n",
    "\n",
    "        # Scaling down the disparity values and normalizing them \n",
    "        disparity = (disparity/16.0 - minDisparity)/numDisparities\n",
    "\n",
    "        # Displaying the disparity map\n",
    "        cv2.imshow(\"disp\",disparity)\n",
    "    \n",
    "        # Close window using esc key\n",
    "        if cv2.waitKey(1) == 27:\n",
    "            break \n",
    "    cv2.destroyAllWindows()\n",
    "    return stereo, disparity"
   ]
  },
  {
   "cell_type": "code",
   "execution_count": 6,
   "metadata": {},
   "outputs": [],
   "source": [
    "frame = 4\n",
    "left_img = cv2.imread(left_images[frame])\n",
    "right_img = cv2.imread(right_images[frame])\n",
    "stereoBM, dispMap = blockMatchingMap(left_img, right_img)"
   ]
  },
  {
   "cell_type": "code",
   "execution_count": 11,
   "metadata": {},
   "outputs": [
    {
     "ename": "TypeError",
     "evalue": "'_asyncio.Future' object is not callable",
     "output_type": "error",
     "traceback": [
      "\u001b[0;31m---------------------------------------------------------------------------\u001b[0m",
      "\u001b[0;31mTypeError\u001b[0m                                 Traceback (most recent call last)",
      "\u001b[0;31mTypeError\u001b[0m: '_asyncio.Future' object is not callable"
     ]
    },
    {
     "ename": "TypeError",
     "evalue": "'_asyncio.Future' object is not callable",
     "output_type": "error",
     "traceback": [
      "\u001b[0;31m---------------------------------------------------------------------------\u001b[0m",
      "\u001b[0;31mTypeError\u001b[0m                                 Traceback (most recent call last)",
      "\u001b[0;31mTypeError\u001b[0m: '_asyncio.Future' object is not callable"
     ]
    },
    {
     "ename": "TypeError",
     "evalue": "'_asyncio.Future' object is not callable",
     "output_type": "error",
     "traceback": [
      "\u001b[0;31m---------------------------------------------------------------------------\u001b[0m",
      "\u001b[0;31mTypeError\u001b[0m                                 Traceback (most recent call last)",
      "\u001b[0;31mTypeError\u001b[0m: '_asyncio.Future' object is not callable"
     ]
    },
    {
     "ename": "TypeError",
     "evalue": "'_asyncio.Future' object is not callable",
     "output_type": "error",
     "traceback": [
      "\u001b[0;31m---------------------------------------------------------------------------\u001b[0m",
      "\u001b[0;31mTypeError\u001b[0m                                 Traceback (most recent call last)",
      "\u001b[0;31mTypeError\u001b[0m: '_asyncio.Future' object is not callable"
     ]
    },
    {
     "ename": "TypeError",
     "evalue": "'_asyncio.Future' object is not callable",
     "output_type": "error",
     "traceback": [
      "\u001b[0;31m---------------------------------------------------------------------------\u001b[0m",
      "\u001b[0;31mTypeError\u001b[0m                                 Traceback (most recent call last)",
      "\u001b[0;31mTypeError\u001b[0m: '_asyncio.Future' object is not callable"
     ]
    },
    {
     "ename": "TypeError",
     "evalue": "'_asyncio.Future' object is not callable",
     "output_type": "error",
     "traceback": [
      "\u001b[0;31m---------------------------------------------------------------------------\u001b[0m",
      "\u001b[0;31mTypeError\u001b[0m                                 Traceback (most recent call last)",
      "\u001b[0;31mTypeError\u001b[0m: '_asyncio.Future' object is not callable"
     ]
    },
    {
     "ename": "TypeError",
     "evalue": "'_asyncio.Future' object is not callable",
     "output_type": "error",
     "traceback": [
      "\u001b[0;31m---------------------------------------------------------------------------\u001b[0m",
      "\u001b[0;31mTypeError\u001b[0m                                 Traceback (most recent call last)",
      "\u001b[0;31mTypeError\u001b[0m: '_asyncio.Future' object is not callable"
     ]
    },
    {
     "ename": "TypeError",
     "evalue": "'_asyncio.Future' object is not callable",
     "output_type": "error",
     "traceback": [
      "\u001b[0;31m---------------------------------------------------------------------------\u001b[0m",
      "\u001b[0;31mTypeError\u001b[0m                                 Traceback (most recent call last)",
      "\u001b[0;31mTypeError\u001b[0m: '_asyncio.Future' object is not callable"
     ]
    },
    {
     "ename": "TypeError",
     "evalue": "'_asyncio.Future' object is not callable",
     "output_type": "error",
     "traceback": [
      "\u001b[0;31m---------------------------------------------------------------------------\u001b[0m",
      "\u001b[0;31mTypeError\u001b[0m                                 Traceback (most recent call last)",
      "\u001b[0;31mTypeError\u001b[0m: '_asyncio.Future' object is not callable"
     ]
    },
    {
     "ename": "TypeError",
     "evalue": "'_asyncio.Future' object is not callable",
     "output_type": "error",
     "traceback": [
      "\u001b[0;31m---------------------------------------------------------------------------\u001b[0m",
      "\u001b[0;31mTypeError\u001b[0m                                 Traceback (most recent call last)",
      "\u001b[0;31mTypeError\u001b[0m: '_asyncio.Future' object is not callable"
     ]
    },
    {
     "ename": "TypeError",
     "evalue": "'_asyncio.Future' object is not callable",
     "output_type": "error",
     "traceback": [
      "\u001b[0;31m---------------------------------------------------------------------------\u001b[0m",
      "\u001b[0;31mTypeError\u001b[0m                                 Traceback (most recent call last)",
      "\u001b[0;31mTypeError\u001b[0m: '_asyncio.Future' object is not callable"
     ]
    },
    {
     "ename": "TypeError",
     "evalue": "'_asyncio.Future' object is not callable",
     "output_type": "error",
     "traceback": [
      "\u001b[0;31m---------------------------------------------------------------------------\u001b[0m",
      "\u001b[0;31mTypeError\u001b[0m                                 Traceback (most recent call last)",
      "\u001b[0;31mTypeError\u001b[0m: '_asyncio.Future' object is not callable"
     ]
    },
    {
     "ename": "TypeError",
     "evalue": "'_asyncio.Future' object is not callable",
     "output_type": "error",
     "traceback": [
      "\u001b[0;31m---------------------------------------------------------------------------\u001b[0m",
      "\u001b[0;31mTypeError\u001b[0m                                 Traceback (most recent call last)",
      "\u001b[0;31mTypeError\u001b[0m: '_asyncio.Future' object is not callable"
     ]
    },
    {
     "ename": "TypeError",
     "evalue": "'_asyncio.Future' object is not callable",
     "output_type": "error",
     "traceback": [
      "\u001b[0;31m---------------------------------------------------------------------------\u001b[0m",
      "\u001b[0;31mTypeError\u001b[0m                                 Traceback (most recent call last)",
      "\u001b[0;31mTypeError\u001b[0m: '_asyncio.Future' object is not callable"
     ]
    },
    {
     "ename": "TypeError",
     "evalue": "'_asyncio.Future' object is not callable",
     "output_type": "error",
     "traceback": [
      "\u001b[0;31m---------------------------------------------------------------------------\u001b[0m",
      "\u001b[0;31mTypeError\u001b[0m                                 Traceback (most recent call last)",
      "\u001b[0;31mTypeError\u001b[0m: '_asyncio.Future' object is not callable"
     ]
    },
    {
     "ename": "TypeError",
     "evalue": "'_asyncio.Future' object is not callable",
     "output_type": "error",
     "traceback": [
      "\u001b[0;31m---------------------------------------------------------------------------\u001b[0m",
      "\u001b[0;31mTypeError\u001b[0m                                 Traceback (most recent call last)",
      "\u001b[0;31mTypeError\u001b[0m: '_asyncio.Future' object is not callable"
     ]
    },
    {
     "ename": "TypeError",
     "evalue": "'_asyncio.Future' object is not callable",
     "output_type": "error",
     "traceback": [
      "\u001b[0;31m---------------------------------------------------------------------------\u001b[0m",
      "\u001b[0;31mTypeError\u001b[0m                                 Traceback (most recent call last)",
      "\u001b[0;31mTypeError\u001b[0m: '_asyncio.Future' object is not callable"
     ]
    },
    {
     "ename": "TypeError",
     "evalue": "'_asyncio.Future' object is not callable",
     "output_type": "error",
     "traceback": [
      "\u001b[0;31m---------------------------------------------------------------------------\u001b[0m",
      "\u001b[0;31mTypeError\u001b[0m                                 Traceback (most recent call last)",
      "\u001b[0;31mTypeError\u001b[0m: '_asyncio.Future' object is not callable"
     ]
    },
    {
     "ename": "TypeError",
     "evalue": "'_asyncio.Future' object is not callable",
     "output_type": "error",
     "traceback": [
      "\u001b[0;31m---------------------------------------------------------------------------\u001b[0m",
      "\u001b[0;31mTypeError\u001b[0m                                 Traceback (most recent call last)",
      "\u001b[0;31mTypeError\u001b[0m: '_asyncio.Future' object is not callable"
     ]
    },
    {
     "ename": "TypeError",
     "evalue": "'_asyncio.Future' object is not callable",
     "output_type": "error",
     "traceback": [
      "\u001b[0;31m---------------------------------------------------------------------------\u001b[0m",
      "\u001b[0;31mTypeError\u001b[0m                                 Traceback (most recent call last)",
      "\u001b[0;31mTypeError\u001b[0m: '_asyncio.Future' object is not callable"
     ]
    },
    {
     "ename": "TypeError",
     "evalue": "'_asyncio.Future' object is not callable",
     "output_type": "error",
     "traceback": [
      "\u001b[0;31m---------------------------------------------------------------------------\u001b[0m",
      "\u001b[0;31mTypeError\u001b[0m                                 Traceback (most recent call last)",
      "\u001b[0;31mTypeError\u001b[0m: '_asyncio.Future' object is not callable"
     ]
    },
    {
     "ename": "TypeError",
     "evalue": "'_asyncio.Future' object is not callable",
     "output_type": "error",
     "traceback": [
      "\u001b[0;31m---------------------------------------------------------------------------\u001b[0m",
      "\u001b[0;31mTypeError\u001b[0m                                 Traceback (most recent call last)",
      "\u001b[0;31mTypeError\u001b[0m: '_asyncio.Future' object is not callable"
     ]
    },
    {
     "ename": "TypeError",
     "evalue": "'_asyncio.Future' object is not callable",
     "output_type": "error",
     "traceback": [
      "\u001b[0;31m---------------------------------------------------------------------------\u001b[0m",
      "\u001b[0;31mTypeError\u001b[0m                                 Traceback (most recent call last)",
      "\u001b[0;31mTypeError\u001b[0m: '_asyncio.Future' object is not callable"
     ]
    },
    {
     "ename": "TypeError",
     "evalue": "'_asyncio.Future' object is not callable",
     "output_type": "error",
     "traceback": [
      "\u001b[0;31m---------------------------------------------------------------------------\u001b[0m",
      "\u001b[0;31mTypeError\u001b[0m                                 Traceback (most recent call last)",
      "\u001b[0;31mTypeError\u001b[0m: '_asyncio.Future' object is not callable"
     ]
    },
    {
     "ename": "TypeError",
     "evalue": "'_asyncio.Future' object is not callable",
     "output_type": "error",
     "traceback": [
      "\u001b[0;31m---------------------------------------------------------------------------\u001b[0m",
      "\u001b[0;31mTypeError\u001b[0m                                 Traceback (most recent call last)",
      "\u001b[0;31mTypeError\u001b[0m: '_asyncio.Future' object is not callable"
     ]
    },
    {
     "ename": "TypeError",
     "evalue": "'_asyncio.Future' object is not callable",
     "output_type": "error",
     "traceback": [
      "\u001b[0;31m---------------------------------------------------------------------------\u001b[0m",
      "\u001b[0;31mTypeError\u001b[0m                                 Traceback (most recent call last)",
      "\u001b[0;31mTypeError\u001b[0m: '_asyncio.Future' object is not callable"
     ]
    },
    {
     "ename": "TypeError",
     "evalue": "'_asyncio.Future' object is not callable",
     "output_type": "error",
     "traceback": [
      "\u001b[0;31m---------------------------------------------------------------------------\u001b[0m",
      "\u001b[0;31mTypeError\u001b[0m                                 Traceback (most recent call last)",
      "\u001b[0;31mTypeError\u001b[0m: '_asyncio.Future' object is not callable"
     ]
    },
    {
     "ename": "TypeError",
     "evalue": "'_asyncio.Future' object is not callable",
     "output_type": "error",
     "traceback": [
      "\u001b[0;31m---------------------------------------------------------------------------\u001b[0m",
      "\u001b[0;31mTypeError\u001b[0m                                 Traceback (most recent call last)",
      "\u001b[0;31mTypeError\u001b[0m: '_asyncio.Future' object is not callable"
     ]
    },
    {
     "ename": "TypeError",
     "evalue": "'_asyncio.Future' object is not callable",
     "output_type": "error",
     "traceback": [
      "\u001b[0;31m---------------------------------------------------------------------------\u001b[0m",
      "\u001b[0;31mTypeError\u001b[0m                                 Traceback (most recent call last)",
      "\u001b[0;31mTypeError\u001b[0m: '_asyncio.Future' object is not callable"
     ]
    },
    {
     "ename": "TypeError",
     "evalue": "'_asyncio.Future' object is not callable",
     "output_type": "error",
     "traceback": [
      "\u001b[0;31m---------------------------------------------------------------------------\u001b[0m",
      "\u001b[0;31mTypeError\u001b[0m                                 Traceback (most recent call last)",
      "\u001b[0;31mTypeError\u001b[0m: '_asyncio.Future' object is not callable"
     ]
    },
    {
     "ename": "TypeError",
     "evalue": "'_asyncio.Future' object is not callable",
     "output_type": "error",
     "traceback": [
      "\u001b[0;31m---------------------------------------------------------------------------\u001b[0m",
      "\u001b[0;31mTypeError\u001b[0m                                 Traceback (most recent call last)",
      "\u001b[0;31mTypeError\u001b[0m: '_asyncio.Future' object is not callable"
     ]
    },
    {
     "ename": "TypeError",
     "evalue": "'_asyncio.Future' object is not callable",
     "output_type": "error",
     "traceback": [
      "\u001b[0;31m---------------------------------------------------------------------------\u001b[0m",
      "\u001b[0;31mTypeError\u001b[0m                                 Traceback (most recent call last)",
      "\u001b[0;31mTypeError\u001b[0m: '_asyncio.Future' object is not callable"
     ]
    },
    {
     "ename": "TypeError",
     "evalue": "'_asyncio.Future' object is not callable",
     "output_type": "error",
     "traceback": [
      "\u001b[0;31m---------------------------------------------------------------------------\u001b[0m",
      "\u001b[0;31mTypeError\u001b[0m                                 Traceback (most recent call last)",
      "\u001b[0;31mTypeError\u001b[0m: '_asyncio.Future' object is not callable"
     ]
    },
    {
     "ename": "TypeError",
     "evalue": "'_asyncio.Future' object is not callable",
     "output_type": "error",
     "traceback": [
      "\u001b[0;31m---------------------------------------------------------------------------\u001b[0m",
      "\u001b[0;31mTypeError\u001b[0m                                 Traceback (most recent call last)",
      "\u001b[0;31mTypeError\u001b[0m: '_asyncio.Future' object is not callable"
     ]
    },
    {
     "ename": "TypeError",
     "evalue": "'_asyncio.Future' object is not callable",
     "output_type": "error",
     "traceback": [
      "\u001b[0;31m---------------------------------------------------------------------------\u001b[0m",
      "\u001b[0;31mTypeError\u001b[0m                                 Traceback (most recent call last)",
      "\u001b[0;31mTypeError\u001b[0m: '_asyncio.Future' object is not callable"
     ]
    },
    {
     "ename": "TypeError",
     "evalue": "'_asyncio.Future' object is not callable",
     "output_type": "error",
     "traceback": [
      "\u001b[0;31m---------------------------------------------------------------------------\u001b[0m",
      "\u001b[0;31mTypeError\u001b[0m                                 Traceback (most recent call last)",
      "\u001b[0;31mTypeError\u001b[0m: '_asyncio.Future' object is not callable"
     ]
    },
    {
     "ename": "TypeError",
     "evalue": "'_asyncio.Future' object is not callable",
     "output_type": "error",
     "traceback": [
      "\u001b[0;31m---------------------------------------------------------------------------\u001b[0m",
      "\u001b[0;31mTypeError\u001b[0m                                 Traceback (most recent call last)",
      "\u001b[0;31mTypeError\u001b[0m: '_asyncio.Future' object is not callable"
     ]
    },
    {
     "ename": "TypeError",
     "evalue": "'_asyncio.Future' object is not callable",
     "output_type": "error",
     "traceback": [
      "\u001b[0;31m---------------------------------------------------------------------------\u001b[0m",
      "\u001b[0;31mTypeError\u001b[0m                                 Traceback (most recent call last)",
      "\u001b[0;31mTypeError\u001b[0m: '_asyncio.Future' object is not callable"
     ]
    },
    {
     "ename": "TypeError",
     "evalue": "'_asyncio.Future' object is not callable",
     "output_type": "error",
     "traceback": [
      "\u001b[0;31m---------------------------------------------------------------------------\u001b[0m",
      "\u001b[0;31mTypeError\u001b[0m                                 Traceback (most recent call last)",
      "\u001b[0;31mTypeError\u001b[0m: '_asyncio.Future' object is not callable"
     ]
    },
    {
     "ename": "TypeError",
     "evalue": "'tuple' object is not callable",
     "output_type": "error",
     "traceback": [
      "\u001b[0;31m---------------------------------------------------------------------------\u001b[0m",
      "\u001b[0;31mTypeError\u001b[0m                                 Traceback (most recent call last)",
      "\u001b[0;31mTypeError\u001b[0m: 'tuple' object is not callable"
     ]
    },
    {
     "ename": "TypeError",
     "evalue": "'tuple' object is not callable",
     "output_type": "error",
     "traceback": [
      "\u001b[0;31m---------------------------------------------------------------------------\u001b[0m",
      "\u001b[0;31mTypeError\u001b[0m                                 Traceback (most recent call last)",
      "\u001b[0;31mTypeError\u001b[0m: 'tuple' object is not callable"
     ]
    },
    {
     "ename": "TypeError",
     "evalue": "'tuple' object is not callable",
     "output_type": "error",
     "traceback": [
      "\u001b[0;31m---------------------------------------------------------------------------\u001b[0m",
      "\u001b[0;31mTypeError\u001b[0m                                 Traceback (most recent call last)",
      "\u001b[0;31mTypeError\u001b[0m: 'tuple' object is not callable"
     ]
    },
    {
     "ename": "TypeError",
     "evalue": "'tuple' object is not callable",
     "output_type": "error",
     "traceback": [
      "\u001b[0;31m---------------------------------------------------------------------------\u001b[0m",
      "\u001b[0;31mTypeError\u001b[0m                                 Traceback (most recent call last)",
      "\u001b[0;31mTypeError\u001b[0m: 'tuple' object is not callable"
     ]
    },
    {
     "ename": "TypeError",
     "evalue": "'tuple' object is not callable",
     "output_type": "error",
     "traceback": [
      "\u001b[0;31m---------------------------------------------------------------------------\u001b[0m",
      "\u001b[0;31mTypeError\u001b[0m                                 Traceback (most recent call last)",
      "\u001b[0;31mTypeError\u001b[0m: 'tuple' object is not callable"
     ]
    },
    {
     "ename": "TypeError",
     "evalue": "'tuple' object is not callable",
     "output_type": "error",
     "traceback": [
      "\u001b[0;31m---------------------------------------------------------------------------\u001b[0m",
      "\u001b[0;31mTypeError\u001b[0m                                 Traceback (most recent call last)",
      "\u001b[0;31mTypeError\u001b[0m: 'tuple' object is not callable"
     ]
    },
    {
     "ename": "TypeError",
     "evalue": "'tuple' object is not callable",
     "output_type": "error",
     "traceback": [
      "\u001b[0;31m---------------------------------------------------------------------------\u001b[0m",
      "\u001b[0;31mTypeError\u001b[0m                                 Traceback (most recent call last)",
      "\u001b[0;31mTypeError\u001b[0m: 'tuple' object is not callable"
     ]
    },
    {
     "ename": "TypeError",
     "evalue": "'tuple' object is not callable",
     "output_type": "error",
     "traceback": [
      "\u001b[0;31m---------------------------------------------------------------------------\u001b[0m",
      "\u001b[0;31mTypeError\u001b[0m                                 Traceback (most recent call last)",
      "\u001b[0;31mTypeError\u001b[0m: 'tuple' object is not callable"
     ]
    },
    {
     "ename": "TypeError",
     "evalue": "'tuple' object is not callable",
     "output_type": "error",
     "traceback": [
      "\u001b[0;31m---------------------------------------------------------------------------\u001b[0m",
      "\u001b[0;31mTypeError\u001b[0m                                 Traceback (most recent call last)",
      "\u001b[0;31mTypeError\u001b[0m: 'tuple' object is not callable"
     ]
    },
    {
     "ename": "TypeError",
     "evalue": "'tuple' object is not callable",
     "output_type": "error",
     "traceback": [
      "\u001b[0;31m---------------------------------------------------------------------------\u001b[0m",
      "\u001b[0;31mTypeError\u001b[0m                                 Traceback (most recent call last)",
      "\u001b[0;31mTypeError\u001b[0m: 'tuple' object is not callable"
     ]
    },
    {
     "ename": "TypeError",
     "evalue": "'tuple' object is not callable",
     "output_type": "error",
     "traceback": [
      "\u001b[0;31m---------------------------------------------------------------------------\u001b[0m",
      "\u001b[0;31mTypeError\u001b[0m                                 Traceback (most recent call last)",
      "\u001b[0;31mTypeError\u001b[0m: 'tuple' object is not callable"
     ]
    },
    {
     "ename": "TypeError",
     "evalue": "'tuple' object is not callable",
     "output_type": "error",
     "traceback": [
      "\u001b[0;31m---------------------------------------------------------------------------\u001b[0m",
      "\u001b[0;31mTypeError\u001b[0m                                 Traceback (most recent call last)",
      "\u001b[0;31mTypeError\u001b[0m: 'tuple' object is not callable"
     ]
    },
    {
     "ename": "TypeError",
     "evalue": "'tuple' object is not callable",
     "output_type": "error",
     "traceback": [
      "\u001b[0;31m---------------------------------------------------------------------------\u001b[0m",
      "\u001b[0;31mTypeError\u001b[0m                                 Traceback (most recent call last)",
      "\u001b[0;31mTypeError\u001b[0m: 'tuple' object is not callable"
     ]
    },
    {
     "ename": "TypeError",
     "evalue": "'tuple' object is not callable",
     "output_type": "error",
     "traceback": [
      "\u001b[0;31m---------------------------------------------------------------------------\u001b[0m",
      "\u001b[0;31mTypeError\u001b[0m                                 Traceback (most recent call last)",
      "\u001b[0;31mTypeError\u001b[0m: 'tuple' object is not callable"
     ]
    },
    {
     "ename": "TypeError",
     "evalue": "'tuple' object is not callable",
     "output_type": "error",
     "traceback": [
      "\u001b[0;31m---------------------------------------------------------------------------\u001b[0m",
      "\u001b[0;31mTypeError\u001b[0m                                 Traceback (most recent call last)",
      "\u001b[0;31mTypeError\u001b[0m: 'tuple' object is not callable"
     ]
    },
    {
     "ename": "TypeError",
     "evalue": "'tuple' object is not callable",
     "output_type": "error",
     "traceback": [
      "\u001b[0;31m---------------------------------------------------------------------------\u001b[0m",
      "\u001b[0;31mTypeError\u001b[0m                                 Traceback (most recent call last)",
      "\u001b[0;31mTypeError\u001b[0m: 'tuple' object is not callable"
     ]
    },
    {
     "ename": "TypeError",
     "evalue": "'tuple' object is not callable",
     "output_type": "error",
     "traceback": [
      "\u001b[0;31m---------------------------------------------------------------------------\u001b[0m",
      "\u001b[0;31mTypeError\u001b[0m                                 Traceback (most recent call last)",
      "\u001b[0;31mTypeError\u001b[0m: 'tuple' object is not callable"
     ]
    },
    {
     "ename": "TypeError",
     "evalue": "'tuple' object is not callable",
     "output_type": "error",
     "traceback": [
      "\u001b[0;31m---------------------------------------------------------------------------\u001b[0m",
      "\u001b[0;31mTypeError\u001b[0m                                 Traceback (most recent call last)",
      "\u001b[0;31mTypeError\u001b[0m: 'tuple' object is not callable"
     ]
    },
    {
     "ename": "TypeError",
     "evalue": "'tuple' object is not callable",
     "output_type": "error",
     "traceback": [
      "\u001b[0;31m---------------------------------------------------------------------------\u001b[0m",
      "\u001b[0;31mTypeError\u001b[0m                                 Traceback (most recent call last)",
      "\u001b[0;31mTypeError\u001b[0m: 'tuple' object is not callable"
     ]
    },
    {
     "ename": "TypeError",
     "evalue": "'tuple' object is not callable",
     "output_type": "error",
     "traceback": [
      "\u001b[0;31m---------------------------------------------------------------------------\u001b[0m",
      "\u001b[0;31mTypeError\u001b[0m                                 Traceback (most recent call last)",
      "\u001b[0;31mTypeError\u001b[0m: 'tuple' object is not callable"
     ]
    },
    {
     "ename": "TypeError",
     "evalue": "'tuple' object is not callable",
     "output_type": "error",
     "traceback": [
      "\u001b[0;31m---------------------------------------------------------------------------\u001b[0m",
      "\u001b[0;31mTypeError\u001b[0m                                 Traceback (most recent call last)",
      "\u001b[0;31mTypeError\u001b[0m: 'tuple' object is not callable"
     ]
    },
    {
     "ename": "TypeError",
     "evalue": "'tuple' object is not callable",
     "output_type": "error",
     "traceback": [
      "\u001b[0;31m---------------------------------------------------------------------------\u001b[0m",
      "\u001b[0;31mTypeError\u001b[0m                                 Traceback (most recent call last)",
      "\u001b[0;31mTypeError\u001b[0m: 'tuple' object is not callable"
     ]
    },
    {
     "ename": "TypeError",
     "evalue": "'tuple' object is not callable",
     "output_type": "error",
     "traceback": [
      "\u001b[0;31m---------------------------------------------------------------------------\u001b[0m",
      "\u001b[0;31mTypeError\u001b[0m                                 Traceback (most recent call last)",
      "\u001b[0;31mTypeError\u001b[0m: 'tuple' object is not callable"
     ]
    },
    {
     "ename": "TypeError",
     "evalue": "'tuple' object is not callable",
     "output_type": "error",
     "traceback": [
      "\u001b[0;31m---------------------------------------------------------------------------\u001b[0m",
      "\u001b[0;31mTypeError\u001b[0m                                 Traceback (most recent call last)",
      "\u001b[0;31mTypeError\u001b[0m: 'tuple' object is not callable"
     ]
    },
    {
     "ename": "TypeError",
     "evalue": "'tuple' object is not callable",
     "output_type": "error",
     "traceback": [
      "\u001b[0;31m---------------------------------------------------------------------------\u001b[0m",
      "\u001b[0;31mTypeError\u001b[0m                                 Traceback (most recent call last)",
      "\u001b[0;31mTypeError\u001b[0m: 'tuple' object is not callable"
     ]
    },
    {
     "ename": "TypeError",
     "evalue": "'tuple' object is not callable",
     "output_type": "error",
     "traceback": [
      "\u001b[0;31m---------------------------------------------------------------------------\u001b[0m",
      "\u001b[0;31mTypeError\u001b[0m                                 Traceback (most recent call last)",
      "\u001b[0;31mTypeError\u001b[0m: 'tuple' object is not callable"
     ]
    },
    {
     "ename": "TypeError",
     "evalue": "'tuple' object is not callable",
     "output_type": "error",
     "traceback": [
      "\u001b[0;31m---------------------------------------------------------------------------\u001b[0m",
      "\u001b[0;31mTypeError\u001b[0m                                 Traceback (most recent call last)",
      "\u001b[0;31mTypeError\u001b[0m: 'tuple' object is not callable"
     ]
    },
    {
     "ename": "TypeError",
     "evalue": "'tuple' object is not callable",
     "output_type": "error",
     "traceback": [
      "\u001b[0;31m---------------------------------------------------------------------------\u001b[0m",
      "\u001b[0;31mTypeError\u001b[0m                                 Traceback (most recent call last)",
      "\u001b[0;31mTypeError\u001b[0m: 'tuple' object is not callable"
     ]
    },
    {
     "ename": "TypeError",
     "evalue": "'str' object is not callable",
     "output_type": "error",
     "traceback": [
      "\u001b[0;31m---------------------------------------------------------------------------\u001b[0m",
      "\u001b[0;31mTypeError\u001b[0m                                 Traceback (most recent call last)",
      "\u001b[0;31mTypeError\u001b[0m: 'str' object is not callable"
     ]
    },
    {
     "ename": "TypeError",
     "evalue": "'str' object is not callable",
     "output_type": "error",
     "traceback": [
      "\u001b[0;31m---------------------------------------------------------------------------\u001b[0m",
      "\u001b[0;31mTypeError\u001b[0m                                 Traceback (most recent call last)",
      "\u001b[0;31mTypeError\u001b[0m: 'str' object is not callable"
     ]
    },
    {
     "ename": "TypeError",
     "evalue": "'str' object is not callable",
     "output_type": "error",
     "traceback": [
      "\u001b[0;31m---------------------------------------------------------------------------\u001b[0m",
      "\u001b[0;31mTypeError\u001b[0m                                 Traceback (most recent call last)",
      "\u001b[0;31mTypeError\u001b[0m: 'str' object is not callable"
     ]
    },
    {
     "ename": "TypeError",
     "evalue": "'str' object is not callable",
     "output_type": "error",
     "traceback": [
      "\u001b[0;31m---------------------------------------------------------------------------\u001b[0m",
      "\u001b[0;31mTypeError\u001b[0m                                 Traceback (most recent call last)",
      "\u001b[0;31mTypeError\u001b[0m: 'str' object is not callable"
     ]
    },
    {
     "ename": "TypeError",
     "evalue": "'str' object is not callable",
     "output_type": "error",
     "traceback": [
      "\u001b[0;31m---------------------------------------------------------------------------\u001b[0m",
      "\u001b[0;31mTypeError\u001b[0m                                 Traceback (most recent call last)",
      "\u001b[0;31mTypeError\u001b[0m: 'str' object is not callable"
     ]
    },
    {
     "ename": "TypeError",
     "evalue": "'str' object is not callable",
     "output_type": "error",
     "traceback": [
      "\u001b[0;31m---------------------------------------------------------------------------\u001b[0m",
      "\u001b[0;31mTypeError\u001b[0m                                 Traceback (most recent call last)",
      "\u001b[0;31mTypeError\u001b[0m: 'str' object is not callable"
     ]
    },
    {
     "ename": "TypeError",
     "evalue": "'str' object is not callable",
     "output_type": "error",
     "traceback": [
      "\u001b[0;31m---------------------------------------------------------------------------\u001b[0m",
      "\u001b[0;31mTypeError\u001b[0m                                 Traceback (most recent call last)",
      "\u001b[0;31mTypeError\u001b[0m: 'str' object is not callable"
     ]
    },
    {
     "ename": "TypeError",
     "evalue": "'str' object is not callable",
     "output_type": "error",
     "traceback": [
      "\u001b[0;31m---------------------------------------------------------------------------\u001b[0m",
      "\u001b[0;31mTypeError\u001b[0m                                 Traceback (most recent call last)",
      "\u001b[0;31mTypeError\u001b[0m: 'str' object is not callable"
     ]
    },
    {
     "ename": "TypeError",
     "evalue": "'str' object is not callable",
     "output_type": "error",
     "traceback": [
      "\u001b[0;31m---------------------------------------------------------------------------\u001b[0m",
      "\u001b[0;31mTypeError\u001b[0m                                 Traceback (most recent call last)",
      "\u001b[0;31mTypeError\u001b[0m: 'str' object is not callable"
     ]
    },
    {
     "ename": "TypeError",
     "evalue": "'str' object is not callable",
     "output_type": "error",
     "traceback": [
      "\u001b[0;31m---------------------------------------------------------------------------\u001b[0m",
      "\u001b[0;31mTypeError\u001b[0m                                 Traceback (most recent call last)",
      "\u001b[0;31mTypeError\u001b[0m: 'str' object is not callable"
     ]
    },
    {
     "ename": "TypeError",
     "evalue": "'str' object is not callable",
     "output_type": "error",
     "traceback": [
      "\u001b[0;31m---------------------------------------------------------------------------\u001b[0m",
      "\u001b[0;31mTypeError\u001b[0m                                 Traceback (most recent call last)",
      "\u001b[0;31mTypeError\u001b[0m: 'str' object is not callable"
     ]
    },
    {
     "ename": "TypeError",
     "evalue": "'str' object is not callable",
     "output_type": "error",
     "traceback": [
      "\u001b[0;31m---------------------------------------------------------------------------\u001b[0m",
      "\u001b[0;31mTypeError\u001b[0m                                 Traceback (most recent call last)",
      "\u001b[0;31mTypeError\u001b[0m: 'str' object is not callable"
     ]
    },
    {
     "ename": "TypeError",
     "evalue": "'str' object is not callable",
     "output_type": "error",
     "traceback": [
      "\u001b[0;31m---------------------------------------------------------------------------\u001b[0m",
      "\u001b[0;31mTypeError\u001b[0m                                 Traceback (most recent call last)",
      "\u001b[0;31mTypeError\u001b[0m: 'str' object is not callable"
     ]
    },
    {
     "ename": "TypeError",
     "evalue": "'str' object is not callable",
     "output_type": "error",
     "traceback": [
      "\u001b[0;31m---------------------------------------------------------------------------\u001b[0m",
      "\u001b[0;31mTypeError\u001b[0m                                 Traceback (most recent call last)",
      "\u001b[0;31mTypeError\u001b[0m: 'str' object is not callable"
     ]
    },
    {
     "ename": "TypeError",
     "evalue": "'str' object is not callable",
     "output_type": "error",
     "traceback": [
      "\u001b[0;31m---------------------------------------------------------------------------\u001b[0m",
      "\u001b[0;31mTypeError\u001b[0m                                 Traceback (most recent call last)",
      "\u001b[0;31mTypeError\u001b[0m: 'str' object is not callable"
     ]
    },
    {
     "ename": "TypeError",
     "evalue": "'str' object is not callable",
     "output_type": "error",
     "traceback": [
      "\u001b[0;31m---------------------------------------------------------------------------\u001b[0m",
      "\u001b[0;31mTypeError\u001b[0m                                 Traceback (most recent call last)",
      "\u001b[0;31mTypeError\u001b[0m: 'str' object is not callable"
     ]
    },
    {
     "ename": "TypeError",
     "evalue": "'str' object is not callable",
     "output_type": "error",
     "traceback": [
      "\u001b[0;31m---------------------------------------------------------------------------\u001b[0m",
      "\u001b[0;31mTypeError\u001b[0m                                 Traceback (most recent call last)",
      "\u001b[0;31mTypeError\u001b[0m: 'str' object is not callable"
     ]
    },
    {
     "ename": "TypeError",
     "evalue": "'str' object is not callable",
     "output_type": "error",
     "traceback": [
      "\u001b[0;31m---------------------------------------------------------------------------\u001b[0m",
      "\u001b[0;31mTypeError\u001b[0m                                 Traceback (most recent call last)",
      "\u001b[0;31mTypeError\u001b[0m: 'str' object is not callable"
     ]
    },
    {
     "ename": "TypeError",
     "evalue": "'str' object is not callable",
     "output_type": "error",
     "traceback": [
      "\u001b[0;31m---------------------------------------------------------------------------\u001b[0m",
      "\u001b[0;31mTypeError\u001b[0m                                 Traceback (most recent call last)",
      "\u001b[0;31mTypeError\u001b[0m: 'str' object is not callable"
     ]
    },
    {
     "ename": "TypeError",
     "evalue": "'str' object is not callable",
     "output_type": "error",
     "traceback": [
      "\u001b[0;31m---------------------------------------------------------------------------\u001b[0m",
      "\u001b[0;31mTypeError\u001b[0m                                 Traceback (most recent call last)",
      "\u001b[0;31mTypeError\u001b[0m: 'str' object is not callable"
     ]
    },
    {
     "ename": "TypeError",
     "evalue": "'str' object is not callable",
     "output_type": "error",
     "traceback": [
      "\u001b[0;31m---------------------------------------------------------------------------\u001b[0m",
      "\u001b[0;31mTypeError\u001b[0m                                 Traceback (most recent call last)",
      "\u001b[0;31mTypeError\u001b[0m: 'str' object is not callable"
     ]
    },
    {
     "ename": "TypeError",
     "evalue": "'_asyncio.Future' object is not callable",
     "output_type": "error",
     "traceback": [
      "\u001b[0;31m---------------------------------------------------------------------------\u001b[0m",
      "\u001b[0;31mTypeError\u001b[0m                                 Traceback (most recent call last)",
      "\u001b[0;31mTypeError\u001b[0m: '_asyncio.Future' object is not callable"
     ]
    },
    {
     "ename": "TypeError",
     "evalue": "'_asyncio.Future' object is not callable",
     "output_type": "error",
     "traceback": [
      "\u001b[0;31m---------------------------------------------------------------------------\u001b[0m",
      "\u001b[0;31mTypeError\u001b[0m                                 Traceback (most recent call last)",
      "\u001b[0;31mTypeError\u001b[0m: '_asyncio.Future' object is not callable"
     ]
    },
    {
     "ename": "TypeError",
     "evalue": "'_asyncio.Future' object is not callable",
     "output_type": "error",
     "traceback": [
      "\u001b[0;31m---------------------------------------------------------------------------\u001b[0m",
      "\u001b[0;31mTypeError\u001b[0m                                 Traceback (most recent call last)",
      "\u001b[0;31mTypeError\u001b[0m: '_asyncio.Future' object is not callable"
     ]
    },
    {
     "ename": "TypeError",
     "evalue": "'_asyncio.Future' object is not callable",
     "output_type": "error",
     "traceback": [
      "\u001b[0;31m---------------------------------------------------------------------------\u001b[0m",
      "\u001b[0;31mTypeError\u001b[0m                                 Traceback (most recent call last)",
      "\u001b[0;31mTypeError\u001b[0m: '_asyncio.Future' object is not callable"
     ]
    },
    {
     "ename": "TypeError",
     "evalue": "'_asyncio.Future' object is not callable",
     "output_type": "error",
     "traceback": [
      "\u001b[0;31m---------------------------------------------------------------------------\u001b[0m",
      "\u001b[0;31mTypeError\u001b[0m                                 Traceback (most recent call last)",
      "\u001b[0;31mTypeError\u001b[0m: '_asyncio.Future' object is not callable"
     ]
    },
    {
     "ename": "TypeError",
     "evalue": "'_asyncio.Future' object is not callable",
     "output_type": "error",
     "traceback": [
      "\u001b[0;31m---------------------------------------------------------------------------\u001b[0m",
      "\u001b[0;31mTypeError\u001b[0m                                 Traceback (most recent call last)",
      "\u001b[0;31mTypeError\u001b[0m: '_asyncio.Future' object is not callable"
     ]
    },
    {
     "ename": "TypeError",
     "evalue": "'_asyncio.Future' object is not callable",
     "output_type": "error",
     "traceback": [
      "\u001b[0;31m---------------------------------------------------------------------------\u001b[0m",
      "\u001b[0;31mTypeError\u001b[0m                                 Traceback (most recent call last)",
      "\u001b[0;31mTypeError\u001b[0m: '_asyncio.Future' object is not callable"
     ]
    },
    {
     "ename": "TypeError",
     "evalue": "'_asyncio.Future' object is not callable",
     "output_type": "error",
     "traceback": [
      "\u001b[0;31m---------------------------------------------------------------------------\u001b[0m",
      "\u001b[0;31mTypeError\u001b[0m                                 Traceback (most recent call last)",
      "\u001b[0;31mTypeError\u001b[0m: '_asyncio.Future' object is not callable"
     ]
    },
    {
     "ename": "TypeError",
     "evalue": "'_asyncio.Future' object is not callable",
     "output_type": "error",
     "traceback": [
      "\u001b[0;31m---------------------------------------------------------------------------\u001b[0m",
      "\u001b[0;31mTypeError\u001b[0m                                 Traceback (most recent call last)",
      "\u001b[0;31mTypeError\u001b[0m: '_asyncio.Future' object is not callable"
     ]
    },
    {
     "ename": "TypeError",
     "evalue": "'_asyncio.Future' object is not callable",
     "output_type": "error",
     "traceback": [
      "\u001b[0;31m---------------------------------------------------------------------------\u001b[0m",
      "\u001b[0;31mTypeError\u001b[0m                                 Traceback (most recent call last)",
      "\u001b[0;31mTypeError\u001b[0m: '_asyncio.Future' object is not callable"
     ]
    },
    {
     "ename": "TypeError",
     "evalue": "'_asyncio.Future' object is not callable",
     "output_type": "error",
     "traceback": [
      "\u001b[0;31m---------------------------------------------------------------------------\u001b[0m",
      "\u001b[0;31mTypeError\u001b[0m                                 Traceback (most recent call last)",
      "\u001b[0;31mTypeError\u001b[0m: '_asyncio.Future' object is not callable"
     ]
    },
    {
     "ename": "TypeError",
     "evalue": "'_asyncio.Future' object is not callable",
     "output_type": "error",
     "traceback": [
      "\u001b[0;31m---------------------------------------------------------------------------\u001b[0m",
      "\u001b[0;31mTypeError\u001b[0m                                 Traceback (most recent call last)",
      "\u001b[0;31mTypeError\u001b[0m: '_asyncio.Future' object is not callable"
     ]
    }
   ],
   "source": [
    "stereoSGBM, dispMap = semiGlobalMatchMap(left_img, right_img)"
   ]
  },
  {
   "cell_type": "code",
   "execution_count": 53,
   "metadata": {},
   "outputs": [],
   "source": [
    "# Save the values held by stereoBM to a .txt file for later use\n",
    "f = open(\"stereoBM.txt\", \"w\")\n",
    "f.write(\"minDisparity \" + str(stereoBM.getMinDisparity()) + \"\\n\")\n",
    "f.write(\"numDisparities \" + str(stereoBM.getNumDisparities()/16) + \"\\n\")\n",
    "f.write(\"blockSize \" + str(stereoBM.getBlockSize()) + \"\\n\")\n",
    "f.write(\"preFilterSize \" + str(stereoBM.getPreFilterSize()) + \"\\n\")\n",
    "f.write(\"preFilterCap \" + str(stereoBM.getPreFilterCap()) + \"\\n\")\n",
    "f.write(\"textureThreshold \" + str(stereoBM.getTextureThreshold()) + \"\\n\")\n",
    "f.write(\"disp12MaxDiff \" + str(stereoBM.getDisp12MaxDiff()) + \"\\n\")\n",
    "f.write(\"uniquenessRatio \" + str(stereoBM.getUniquenessRatio()) + \"\\n\")\n",
    "f.write(\"speckleRange \" + str(stereoBM.getSpeckleRange()) + \"\\n\")\n",
    "f.write(\"speckleWindowSize \" + str(stereoBM.getSpeckleWindowSize()) + \"\\n\")\n",
    "f.close()"
   ]
  },
  {
   "cell_type": "code",
   "execution_count": 54,
   "metadata": {},
   "outputs": [],
   "source": [
    "# Save the disparity map as a .npy file for later use\n",
    "np.save(\"disparityMap.npy\", dispMap)"
   ]
  },
  {
   "cell_type": "code",
   "execution_count": 86,
   "metadata": {},
   "outputs": [
    {
     "data": {
      "text/plain": [
       "<matplotlib.image.AxesImage at 0x7f2e25d50370>"
      ]
     },
     "execution_count": 86,
     "metadata": {},
     "output_type": "execute_result"
    },
    {
     "data": {
      "image/png": "[encoded data removed]",
      "text/plain": [
       "<Figure size 640x480 with 1 Axes>"
      ]
     },
     "metadata": {},
     "output_type": "display_data"
    }
   ],
   "source": [
    "# Load the saved disparity map\n",
    "dispMap = np.load(\"disparityMap.npy\")\n",
    "\n",
    "#Display the map\n",
    "plt.imshow(dispMap, 'gray')"
   ]
  },
  {
   "cell_type": "code",
   "execution_count": 13,
   "metadata": {},
   "outputs": [],
   "source": [
    "def export_pointcloud(disparity_map, colors, filename):\n",
    "\n",
    "    def write_ply(fn, verts, colors):\n",
    "        ply_header = '''ply\n",
    "        format ascii 1.0\n",
    "        element vertex %(vert_num)d\n",
    "        property float x\n",
    "        property float y\n",
    "        property float z\n",
    "        property uchar red\n",
    "        property uchar green\n",
    "        property uchar blue\n",
    "        end_header\n",
    "        '''\n",
    "        verts = verts.reshape(-1, 3)\n",
    "        colors = colors.reshape(-1, 3)\n",
    "        verts = np.hstack([verts, colors])\n",
    "        with open(fn, 'wb') as f:\n",
    "            f.write((ply_header % dict(vert_num=len(verts))).encode('utf-8'))\n",
    "            np.savetxt(f, verts, fmt='%f %f %f %d %d %d ')\n",
    "    \n",
    "    \n",
    "    h, w = disparity_map.shape[:2]\n",
    "    f = .8 * w  # guess for focal length. If you 3D reconstruction looks skewed in the viewing direction, try adjusting this parameter.\n",
    "    Q = np.float32([[ 1.00,  0.0,  0.0,  6.22731182e+03],\n",
    "                  [ 0.0,  -1.00,  0.0, -3.36254675e+02],\n",
    "                  [ 0.0,  0.0,   0.0, -5.78620767e+02],\n",
    "                  [ 0.0,  0.0,  7.41532459e-04, 8.79243675e+00]]) # Obtained from stereo rectify\n",
    "    \n",
    "    # Q = np.float32([[1.,  0., 0. ,    -604.0814209 ],\n",
    "    #                 [0., 1.,  0.,     -180.50661469],\n",
    "    #                 [0., 0.,  0.,      707.04931641],\n",
    "    #                 [0., 0., -1.85185185,   0.]]) # Obtained from P_rect_02 and _03 kitti variables\n",
    "    \n",
    "    # Q = np.float32([[1, 0, 0, -0.5 * w],\n",
    "    #                 [0, -1, 0, 0.5 * h],  # turn points 180 deg around x-axis,\n",
    "    #                 [0, 0, 0, -f],        # so that y-axis looks up\n",
    "    #                 [0, 0, 1, 0]])        # FROM THE EXERCISES\n",
    "    points = cv2.reprojectImageTo3D(disparity_map, Q)\n",
    "    \n",
    "    colors = cv2.cvtColor(colors, cv2.COLOR_BGR2RGB)\n",
    "    mask = disparity_map > disparity_map.min()\n",
    "    out_points = points[mask]\n",
    "    out_colors = colors[mask]\n",
    "\n",
    "    write_ply(filename, out_points, out_colors)\n",
    "    print(f'{filename} saved')"
   ]
  },
  {
   "cell_type": "code",
   "execution_count": 14,
   "metadata": {},
   "outputs": [
    {
     "name": "stdout",
     "output_type": "stream",
     "text": [
      "pointcloud.ply saved\n"
     ]
    }
   ],
   "source": [
    "# Fetch the saved disparity map\n",
    "recentDisp = dispMap.copy()\n",
    "export_pointcloud(recentDisp, left_img, \"pointcloud.ply\")"
   ]
  }
 ],
 "metadata": {
  "kernelspec": {
   "display_name": "pfas",
   "language": "python",
   "name": "python3"
  },
  "language_info": {
   "codemirror_mode": {
    "name": "ipython",
    "version": 3
   },
   "file_extension": ".py",
   "mimetype": "text/x-python",
   "name": "python",
   "nbconvert_exporter": "python",
   "pygments_lexer": "ipython3",
   "version": "3.10.9"
  },
  "orig_nbformat": 4
 },
 "nbformat": 4,
 "nbformat_minor": 2
}
